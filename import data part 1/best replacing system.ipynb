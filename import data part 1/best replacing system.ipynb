{
 "cells": [
  {
   "cell_type": "markdown",
   "metadata": {},
   "source": [
    "### Import titanic.csv using the function np.recfromcsv() and assign it to the variable, d. You'll only need to pass file to it because it has the defaults delimiter=',' and names=True in addition to dtype=None!\n"
   ]
  },
  {
   "cell_type": "code",
   "execution_count": 4,
   "metadata": {},
   "outputs": [],
   "source": [
    "import numpy as np\n",
    "import pandas as pd"
   ]
  },
  {
   "cell_type": "code",
   "execution_count": 5,
   "metadata": {},
   "outputs": [],
   "source": [
    "# Assign the filename: file\n",
    "file = 'titanic.txt'\n",
    "\n",
    "# Import file using np.recfromcsv: d\n",
    "df=pd.read_table(file,delimiter=',',header=None)\n",
    "#header none "
   ]
  },
  {
   "cell_type": "code",
   "execution_count": 6,
   "metadata": {},
   "outputs": [
    {
     "data": {
      "text/html": [
       "<div>\n",
       "<style scoped>\n",
       "    .dataframe tbody tr th:only-of-type {\n",
       "        vertical-align: middle;\n",
       "    }\n",
       "\n",
       "    .dataframe tbody tr th {\n",
       "        vertical-align: top;\n",
       "    }\n",
       "\n",
       "    .dataframe thead th {\n",
       "        text-align: right;\n",
       "    }\n",
       "</style>\n",
       "<table border=\"1\" class=\"dataframe\">\n",
       "  <thead>\n",
       "    <tr style=\"text-align: right;\">\n",
       "      <th></th>\n",
       "      <th>0</th>\n",
       "      <th>1</th>\n",
       "      <th>2</th>\n",
       "      <th>3</th>\n",
       "      <th>4</th>\n",
       "      <th>5</th>\n",
       "      <th>6</th>\n",
       "      <th>7</th>\n",
       "      <th>8</th>\n",
       "      <th>9</th>\n",
       "      <th>10</th>\n",
       "    </tr>\n",
       "  </thead>\n",
       "  <tbody>\n",
       "    <tr>\n",
       "      <th>0</th>\n",
       "      <td>[(1</td>\n",
       "      <td>0</td>\n",
       "      <td>3</td>\n",
       "      <td>b'male'</td>\n",
       "      <td>22.0</td>\n",
       "      <td>1</td>\n",
       "      <td>0</td>\n",
       "      <td>b'A/5 21171'</td>\n",
       "      <td>7.2500</td>\n",
       "      <td>b''</td>\n",
       "      <td>b'S')</td>\n",
       "    </tr>\n",
       "    <tr>\n",
       "      <th>1</th>\n",
       "      <td>(2</td>\n",
       "      <td>1</td>\n",
       "      <td>1</td>\n",
       "      <td>b'female'</td>\n",
       "      <td>38.0</td>\n",
       "      <td>1</td>\n",
       "      <td>0</td>\n",
       "      <td>b'PC 17599'</td>\n",
       "      <td>71.2833</td>\n",
       "      <td>b'C85'</td>\n",
       "      <td>b'C')</td>\n",
       "    </tr>\n",
       "    <tr>\n",
       "      <th>2</th>\n",
       "      <td>(3</td>\n",
       "      <td>1</td>\n",
       "      <td>3</td>\n",
       "      <td>b'female'</td>\n",
       "      <td>26.0</td>\n",
       "      <td>0</td>\n",
       "      <td>0</td>\n",
       "      <td>b'STON/O2. 3101282'</td>\n",
       "      <td>7.9250</td>\n",
       "      <td>b''</td>\n",
       "      <td>b'S')</td>\n",
       "    </tr>\n",
       "    <tr>\n",
       "      <th>3</th>\n",
       "      <td>(4</td>\n",
       "      <td>1</td>\n",
       "      <td>1</td>\n",
       "      <td>b'female'</td>\n",
       "      <td>35.0</td>\n",
       "      <td>1</td>\n",
       "      <td>0</td>\n",
       "      <td>b'113803'</td>\n",
       "      <td>53.1000</td>\n",
       "      <td>b'C123'</td>\n",
       "      <td>b'S')</td>\n",
       "    </tr>\n",
       "    <tr>\n",
       "      <th>4</th>\n",
       "      <td>(5</td>\n",
       "      <td>0</td>\n",
       "      <td>3</td>\n",
       "      <td>b'male'</td>\n",
       "      <td>35.0</td>\n",
       "      <td>0</td>\n",
       "      <td>0</td>\n",
       "      <td>b'373450'</td>\n",
       "      <td>8.0500</td>\n",
       "      <td>b''</td>\n",
       "      <td>b'S')</td>\n",
       "    </tr>\n",
       "  </tbody>\n",
       "</table>\n",
       "</div>"
      ],
      "text/plain": [
       "    0   1   2           3      4   5   6                     7        8   \\\n",
       "0  [(1   0   3     b'male'   22.0   1   0          b'A/5 21171'   7.2500   \n",
       "1   (2   1   1   b'female'   38.0   1   0           b'PC 17599'  71.2833   \n",
       "2   (3   1   3   b'female'   26.0   0   0   b'STON/O2. 3101282'   7.9250   \n",
       "3   (4   1   1   b'female'   35.0   1   0             b'113803'  53.1000   \n",
       "4   (5   0   3     b'male'   35.0   0   0             b'373450'   8.0500   \n",
       "\n",
       "         9       10  \n",
       "0       b''   b'S')  \n",
       "1    b'C85'   b'C')  \n",
       "2       b''   b'S')  \n",
       "3   b'C123'   b'S')  \n",
       "4       b''   b'S')  "
      ]
     },
     "execution_count": 6,
     "metadata": {},
     "output_type": "execute_result"
    }
   ],
   "source": [
    "df.head()"
   ]
  },
  {
   "cell_type": "code",
   "execution_count": 9,
   "metadata": {},
   "outputs": [],
   "source": [
    "rename=['serial','family_member','pl_class','gender','age','sibsp','parch' ,'ticket','fare','cabin','eambarked']\n",
    "df.columns=rename        "
   ]
  },
  {
   "cell_type": "code",
   "execution_count": 10,
   "metadata": {},
   "outputs": [],
   "source": [
    "change=df.serial"
   ]
  },
  {
   "cell_type": "code",
   "execution_count": 179,
   "metadata": {},
   "outputs": [
    {
     "ename": "AttributeError",
     "evalue": "'Series' object has no attribute 'strip'",
     "output_type": "error",
     "traceback": [
      "\u001b[1;31m---------------------------------------------------------------------------\u001b[0m",
      "\u001b[1;31mAttributeError\u001b[0m                            Traceback (most recent call last)",
      "\u001b[1;32m<ipython-input-179-a105c2223cfe>\u001b[0m in \u001b[0;36m<module>\u001b[1;34m()\u001b[0m\n\u001b[1;32m----> 1\u001b[1;33m \u001b[0mchange\u001b[0m\u001b[1;33m.\u001b[0m\u001b[0mstrip\u001b[0m\u001b[1;33m(\u001b[0m\u001b[1;33m)\u001b[0m\u001b[1;33m.\u001b[0m\u001b[0mstr\u001b[0m\u001b[1;33m.\u001b[0m\u001b[0mreplace\u001b[0m\u001b[1;33m.\u001b[0m\u001b[0mstr\u001b[0m\u001b[1;33m.\u001b[0m\u001b[0mreplace\u001b[0m\u001b[1;33m(\u001b[0m\u001b[1;34m'('\u001b[0m\u001b[1;33m,\u001b[0m \u001b[1;34m' '\u001b[0m\u001b[1;33m)\u001b[0m\u001b[1;33m.\u001b[0m\u001b[0mstr\u001b[0m\u001b[1;33m.\u001b[0m\u001b[0mreplace\u001b[0m\u001b[1;33m(\u001b[0m\u001b[1;34m')'\u001b[0m\u001b[1;33m,\u001b[0m \u001b[1;34m' '\u001b[0m\u001b[1;33m)\u001b[0m\u001b[1;33m\u001b[0m\u001b[0m\n\u001b[0m",
      "\u001b[1;32m~\\Anaconda3\\lib\\site-packages\\pandas\\core\\generic.py\u001b[0m in \u001b[0;36m__getattr__\u001b[1;34m(self, name)\u001b[0m\n\u001b[0;32m   3612\u001b[0m             \u001b[1;32mif\u001b[0m \u001b[0mname\u001b[0m \u001b[1;32min\u001b[0m \u001b[0mself\u001b[0m\u001b[1;33m.\u001b[0m\u001b[0m_info_axis\u001b[0m\u001b[1;33m:\u001b[0m\u001b[1;33m\u001b[0m\u001b[0m\n\u001b[0;32m   3613\u001b[0m                 \u001b[1;32mreturn\u001b[0m \u001b[0mself\u001b[0m\u001b[1;33m[\u001b[0m\u001b[0mname\u001b[0m\u001b[1;33m]\u001b[0m\u001b[1;33m\u001b[0m\u001b[0m\n\u001b[1;32m-> 3614\u001b[1;33m             \u001b[1;32mreturn\u001b[0m \u001b[0mobject\u001b[0m\u001b[1;33m.\u001b[0m\u001b[0m__getattribute__\u001b[0m\u001b[1;33m(\u001b[0m\u001b[0mself\u001b[0m\u001b[1;33m,\u001b[0m \u001b[0mname\u001b[0m\u001b[1;33m)\u001b[0m\u001b[1;33m\u001b[0m\u001b[0m\n\u001b[0m\u001b[0;32m   3615\u001b[0m \u001b[1;33m\u001b[0m\u001b[0m\n\u001b[0;32m   3616\u001b[0m     \u001b[1;32mdef\u001b[0m \u001b[0m__setattr__\u001b[0m\u001b[1;33m(\u001b[0m\u001b[0mself\u001b[0m\u001b[1;33m,\u001b[0m \u001b[0mname\u001b[0m\u001b[1;33m,\u001b[0m \u001b[0mvalue\u001b[0m\u001b[1;33m)\u001b[0m\u001b[1;33m:\u001b[0m\u001b[1;33m\u001b[0m\u001b[0m\n",
      "\u001b[1;31mAttributeError\u001b[0m: 'Series' object has no attribute 'strip'"
     ]
    }
   ],
   "source": [
    "change.strip().str.replace.str.replace('(', ' ').str.replace(')', ' ')\n"
   ]
  },
  {
   "cell_type": "code",
   "execution_count": null,
   "metadata": {},
   "outputs": [],
   "source": [
    "# # df['BrandName'].replace(['ABC', 'AB'], 'A')"
   ]
  },
  {
   "cell_type": "code",
   "execution_count": 187,
   "metadata": {},
   "outputs": [
    {
     "name": "stdout",
     "output_type": "stream",
     "text": [
      "785 µs ± 46.8 µs per loop (mean ± std. dev. of 7 runs, 1000 loops each)\n"
     ]
    }
   ],
   "source": [
    "%timeit change.str.replace('(', ' ')"
   ]
  },
  {
   "cell_type": "code",
   "execution_count": 181,
   "metadata": {},
   "outputs": [
    {
     "data": {
      "text/plain": [
       "0        [(1\n",
       "1         (2\n",
       "2         (3\n",
       "3         (4\n",
       "4         (5\n",
       "5         (6\n",
       "6         (7\n",
       "7         (8\n",
       "8         (9\n",
       "9        (10\n",
       "10       (11\n",
       "11       (12\n",
       "12       (13\n",
       "13       (14\n",
       "14       (15\n",
       "15       (16\n",
       "16       (17\n",
       "17       (18\n",
       "18       (19\n",
       "19       (20\n",
       "20       (21\n",
       "21       (22\n",
       "22       (23\n",
       "23       (24\n",
       "24       (25\n",
       "25       (26\n",
       "26       (27\n",
       "27       (28\n",
       "28       (29\n",
       "29       (30\n",
       "       ...  \n",
       "861     (862\n",
       "862     (863\n",
       "863     (864\n",
       "864     (865\n",
       "865     (866\n",
       "866     (867\n",
       "867     (868\n",
       "868     (869\n",
       "869     (870\n",
       "870     (871\n",
       "871     (872\n",
       "872     (873\n",
       "873     (874\n",
       "874     (875\n",
       "875     (876\n",
       "876     (877\n",
       "877     (878\n",
       "878     (879\n",
       "879     (880\n",
       "880     (881\n",
       "881     (882\n",
       "882     (883\n",
       "883     (884\n",
       "884     (885\n",
       "885     (886\n",
       "886     (887\n",
       "887     (888\n",
       "888     (889\n",
       "889     (890\n",
       "890     (891\n",
       "Name: serial, Length: 891, dtype: object"
      ]
     },
     "execution_count": 181,
     "metadata": {},
     "output_type": "execute_result"
    }
   ],
   "source": [
    "change"
   ]
  },
  {
   "cell_type": "code",
   "execution_count": 186,
   "metadata": {},
   "outputs": [
    {
     "name": "stdout",
     "output_type": "stream",
     "text": [
      "861 µs ± 160 µs per loop (mean ± std. dev. of 7 runs, 1000 loops each)\n"
     ]
    }
   ],
   "source": [
    "%timeit change.apply(lambda x: x.replace('(', ' '))"
   ]
  },
  {
   "cell_type": "code",
   "execution_count": 217,
   "metadata": {},
   "outputs": [
    {
     "data": {
      "text/plain": [
       "0        [(1\n",
       "1         (2\n",
       "2         (3\n",
       "3         (4\n",
       "4         (5\n",
       "5         (6\n",
       "6         (7\n",
       "7         (8\n",
       "8         (9\n",
       "9        (10\n",
       "10       (11\n",
       "11       (12\n",
       "12       (13\n",
       "13       (14\n",
       "14       (15\n",
       "15       (16\n",
       "16       (17\n",
       "17       (18\n",
       "18       (19\n",
       "19       (20\n",
       "20       (21\n",
       "21       (22\n",
       "22       (23\n",
       "23       (24\n",
       "24       (25\n",
       "25       (26\n",
       "26       (27\n",
       "27       (28\n",
       "28       (29\n",
       "29       (30\n",
       "       ...  \n",
       "861     (862\n",
       "862     (863\n",
       "863     (864\n",
       "864     (865\n",
       "865     (866\n",
       "866     (867\n",
       "867     (868\n",
       "868     (869\n",
       "869     (870\n",
       "870     (871\n",
       "871     (872\n",
       "872     (873\n",
       "873     (874\n",
       "874     (875\n",
       "875     (876\n",
       "876     (877\n",
       "877     (878\n",
       "878     (879\n",
       "879     (880\n",
       "880     (881\n",
       "881     (882\n",
       "882     (883\n",
       "883     (884\n",
       "884     (885\n",
       "885     (886\n",
       "886     (887\n",
       "887     (888\n",
       "888     (889\n",
       "889     (890\n",
       "890     (891\n",
       "Name: serial, Length: 891, dtype: object"
      ]
     },
     "execution_count": 217,
     "metadata": {},
     "output_type": "execute_result"
    }
   ],
   "source": [
    "f=change.apply(lambda x: x.strip('('))\n",
    "f"
   ]
  },
  {
   "cell_type": "code",
   "execution_count": 201,
   "metadata": {},
   "outputs": [
    {
     "name": "stdout",
     "output_type": "stream",
     "text": [
      "649 µs ± 98.5 µs per loop (mean ± std. dev. of 7 runs, 1000 loops each)\n"
     ]
    }
   ],
   "source": [
    "%timeit change.apply(lambda x: x.strip('('))"
   ]
  },
  {
   "cell_type": "code",
   "execution_count": 209,
   "metadata": {},
   "outputs": [
    {
     "name": "stdout",
     "output_type": "stream",
     "text": [
      "257 µs ± 45.6 µs per loop (mean ± std. dev. of 7 runs, 1000 loops each)\n"
     ]
    }
   ],
   "source": [
    "%timeit [x.strip('(') for x in change]"
   ]
  },
  {
   "cell_type": "code",
   "execution_count": 219,
   "metadata": {},
   "outputs": [
    {
     "name": "stdout",
     "output_type": "stream",
     "text": [
      "178 µs ± 32.2 µs per loop (mean ± std. dev. of 7 runs, 10000 loops each)\n"
     ]
    }
   ],
   "source": [
    "%timeit [x[1:] for x in change]"
   ]
  },
  {
   "cell_type": "code",
   "execution_count": 240,
   "metadata": {},
   "outputs": [
    {
     "ename": "SyntaxError",
     "evalue": "invalid syntax (<ipython-input-240-c42e21e5bc1a>, line 1)",
     "output_type": "error",
     "traceback": [
      "\u001b[1;36m  File \u001b[1;32m\"<ipython-input-240-c42e21e5bc1a>\"\u001b[1;36m, line \u001b[1;32m1\u001b[0m\n\u001b[1;33m    np.fromstring(change.values.astype(''|S6').tobytes().replace('$',' '), dtype='|S6')\u001b[0m\n\u001b[1;37m                                                                 ^\u001b[0m\n\u001b[1;31mSyntaxError\u001b[0m\u001b[1;31m:\u001b[0m invalid syntax\n"
     ]
    }
   ],
   "source": [
    "np.fromstring(change.values.astype(''|S6').tobytes().replace('$',' '), dtype='|S6')\n"
   ]
  },
  {
   "cell_type": "code",
   "execution_count": 242,
   "metadata": {},
   "outputs": [
    {
     "ename": "TypeError",
     "evalue": "a bytes-like object is required, not 'Series'",
     "output_type": "error",
     "traceback": [
      "\u001b[1;31m---------------------------------------------------------------------------\u001b[0m",
      "\u001b[1;31mTypeError\u001b[0m                                 Traceback (most recent call last)",
      "\u001b[1;32m<ipython-input-242-0598266d4ad6>\u001b[0m in \u001b[0;36m<module>\u001b[1;34m()\u001b[0m\n\u001b[1;32m----> 1\u001b[1;33m \u001b[0mnp\u001b[0m\u001b[1;33m.\u001b[0m\u001b[0mfromstring\u001b[0m\u001b[1;33m(\u001b[0m\u001b[0mchange\u001b[0m\u001b[1;33m.\u001b[0m\u001b[0mvalues\u001b[0m\u001b[1;33m.\u001b[0m\u001b[0mastype\u001b[0m\u001b[1;33m(\u001b[0m\u001b[1;34m'|S7'\u001b[0m\u001b[1;33m)\u001b[0m\u001b[1;33m.\u001b[0m\u001b[0mtobytes\u001b[0m\u001b[1;33m(\u001b[0m\u001b[1;33m)\u001b[0m\u001b[1;33m.\u001b[0m\u001b[0mreplace\u001b[0m\u001b[1;33m(\u001b[0m\u001b[0mchange\u001b[0m\u001b[1;33m,\u001b[0m\u001b[1;34mb'$'\u001b[0m\u001b[1;33m,\u001b[0m\u001b[1;34mb''\u001b[0m\u001b[1;33m)\u001b[0m\u001b[1;33m,\u001b[0m \u001b[0mdtype\u001b[0m\u001b[1;33m=\u001b[0m\u001b[1;34m'|S6'\u001b[0m\u001b[1;33m)\u001b[0m\u001b[1;33m\u001b[0m\u001b[0m\n\u001b[0m",
      "\u001b[1;31mTypeError\u001b[0m: a bytes-like object is required, not 'Series'"
     ]
    }
   ],
   "source": [
    "np.fromstring(change.values.astype('|S7').tobytes().replace(change,b'$',b''), dtype='|S6')"
   ]
  }
 ],
 "metadata": {
  "kernelspec": {
   "display_name": "Python 3",
   "language": "python",
   "name": "python3"
  },
  "language_info": {
   "codemirror_mode": {
    "name": "ipython",
    "version": 3
   },
   "file_extension": ".py",
   "mimetype": "text/x-python",
   "name": "python",
   "nbconvert_exporter": "python",
   "pygments_lexer": "ipython3",
   "version": "3.6.4"
  }
 },
 "nbformat": 4,
 "nbformat_minor": 2
}
