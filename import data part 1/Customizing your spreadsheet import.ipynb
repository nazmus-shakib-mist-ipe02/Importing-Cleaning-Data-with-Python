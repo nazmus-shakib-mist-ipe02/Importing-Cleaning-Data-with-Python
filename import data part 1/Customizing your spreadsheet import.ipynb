{
 "cells": [
  {
   "cell_type": "code",
   "execution_count": 1,
   "metadata": {},
   "outputs": [],
   "source": [
    "import pandas as pd"
   ]
  },
  {
   "cell_type": "code",
   "execution_count": 2,
   "metadata": {},
   "outputs": [],
   "source": [
    "file = 'battledeath.xls'"
   ]
  },
  {
   "cell_type": "code",
   "execution_count": 5,
   "metadata": {},
   "outputs": [],
   "source": [
    "xl = pd.ExcelFile(file)"
   ]
  },
  {
   "cell_type": "code",
   "execution_count": 6,
   "metadata": {},
   "outputs": [
    {
     "data": {
      "text/plain": [
       "['bdonly']"
      ]
     },
     "execution_count": 6,
     "metadata": {},
     "output_type": "execute_result"
    }
   ],
   "source": [
    "xl.sheet_names"
   ]
  },
  {
   "cell_type": "markdown",
   "metadata": {},
   "source": [
    "### Parse the first sheet by index. In doing so, skip the first row of data and name the columns using the argument names. The values passed to skiprows and names all need to be of type list."
   ]
  },
  {
   "cell_type": "code",
   "execution_count": 26,
   "metadata": {},
   "outputs": [],
   "source": [
    "# Parse the first sheet and rename the columns: df1\n",
    "df1 = xl.parse(0, skiprows=[0],header = None)\n",
    "#df1 = xl.parse(0, skiprows=[0], names=['Country', 'AAM due to War (2002)']) # if need to apply column names"
   ]
  },
  {
   "cell_type": "code",
   "execution_count": 23,
   "metadata": {},
   "outputs": [
    {
     "name": "stdout",
     "output_type": "stream",
     "text": [
      "   0     1     2     3     4   5   6    7         8        9    ...   22  \\\n",
      "0   1  1946  1000  9999  1000   2   1  3.1   Bolivia  Bolivia   ...    1   \n",
      "1   1  1952   450  3000  -999   2   1  3.1   Bolivia  Bolivia   ...    1   \n",
      "2   1  1967    25   999    82   2   1  3.1   Bolivia  Bolivia   ...    1   \n",
      "3   2  1946    25   999  -999   0   0  3.1  Cambodia   France   ...    0   \n",
      "4   2  1947    25   999  -999   0   0  3.1  Cambodia   France   ...    0   \n",
      "\n",
      "          23    24   25   26   27   28   29 30      31  \n",
      "0 1946-07-21 -99.0  145  NaN  NaN  NaN  145  5  2009-4  \n",
      "1 1952-04-12 -99.0  145  NaN  NaN  NaN  145  5  2009-4  \n",
      "2 1967-10-16 -99.0  145  NaN  NaN  NaN  145  5  2009-4  \n",
      "3        NaT   NaN  220  NaN  NaN  NaN  811  3  2009-4  \n",
      "4        NaT   NaN  220  NaN  NaN  NaN  811  3  2009-4  \n",
      "\n",
      "[5 rows x 32 columns]\n"
     ]
    }
   ],
   "source": [
    "# Print the head of the DataFrame df1\n",
    "print(df1.head())"
   ]
  },
  {
   "cell_type": "markdown",
   "metadata": {},
   "source": [
    "### Parse the sheet by index. In doing so, parse only the first column with the parse_cols parameter, skip the first row and rename the column 'Country'. The argument passed to parse_cols also needs to be of type list."
   ]
  },
  {
   "cell_type": "code",
   "execution_count": 36,
   "metadata": {},
   "outputs": [],
   "source": [
    "# Parse the first column of the second sheet and rename the column: df2\n",
    "df2 = xl.parse(0, parse_cols=[1], skiprows=[0],header=None)\n",
    "#df2 = xl.parse(1, parse_cols=[0], skiprows=0, names=['AAM due to War (2002)'])"
   ]
  },
  {
   "cell_type": "code",
   "execution_count": 40,
   "metadata": {},
   "outputs": [
    {
     "name": "stdout",
     "output_type": "stream",
     "text": [
      "   0     1     2     3     4   5   6    7         8        9    ...   22  \\\n",
      "0   1  1946  1000  9999  1000   2   1  3.1   Bolivia  Bolivia   ...    1   \n",
      "1   1  1952   450  3000  -999   2   1  3.1   Bolivia  Bolivia   ...    1   \n",
      "2   1  1967    25   999    82   2   1  3.1   Bolivia  Bolivia   ...    1   \n",
      "3   2  1946    25   999  -999   0   0  3.1  Cambodia   France   ...    0   \n",
      "4   2  1947    25   999  -999   0   0  3.1  Cambodia   France   ...    0   \n",
      "\n",
      "          23    24   25   26   27   28   29 30      31  \n",
      "0 1946-07-21 -99.0  145  NaN  NaN  NaN  145  5  2009-4  \n",
      "1 1952-04-12 -99.0  145  NaN  NaN  NaN  145  5  2009-4  \n",
      "2 1967-10-16 -99.0  145  NaN  NaN  NaN  145  5  2009-4  \n",
      "3        NaT   NaN  220  NaN  NaN  NaN  811  3  2009-4  \n",
      "4        NaT   NaN  220  NaN  NaN  NaN  811  3  2009-4  \n",
      "\n",
      "[5 rows x 32 columns]\n"
     ]
    },
    {
     "data": {
      "text/plain": [
       "Int64Index([ 0,  1,  2,  3,  4,  5,  6,  7,  8,  9, 10, 11, 12, 13, 14, 15, 16,\n",
       "            17, 18, 19, 20, 21, 22, 23, 24, 25, 26, 27, 28, 29, 30, 31],\n",
       "           dtype='int64')"
      ]
     },
     "execution_count": 40,
     "metadata": {},
     "output_type": "execute_result"
    }
   ],
   "source": [
    "# Print the head of the DataFrame df2\n",
    "print(df2.head())\n",
    "df2.columns"
   ]
  }
 ],
 "metadata": {
  "kernelspec": {
   "display_name": "Python 3",
   "language": "python",
   "name": "python3"
  },
  "language_info": {
   "codemirror_mode": {
    "name": "ipython",
    "version": 3
   },
   "file_extension": ".py",
   "mimetype": "text/x-python",
   "name": "python",
   "nbconvert_exporter": "python",
   "pygments_lexer": "ipython3",
   "version": "3.6.4"
  }
 },
 "nbformat": 4,
 "nbformat_minor": 2
}
