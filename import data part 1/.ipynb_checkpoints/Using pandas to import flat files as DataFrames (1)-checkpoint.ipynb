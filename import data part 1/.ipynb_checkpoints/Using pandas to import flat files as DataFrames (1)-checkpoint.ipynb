{
 "cells": [
  {
   "cell_type": "markdown",
   "metadata": {},
   "source": [
    "### Import the pandas package using the alias pd."
   ]
  },
  {
   "cell_type": "code",
   "execution_count": 38,
   "metadata": {},
   "outputs": [],
   "source": [
    "# Import pandas as pd\n",
    "import pandas as pd\n",
    "import re "
   ]
  },
  {
   "cell_type": "markdown",
   "metadata": {},
   "source": [
    "### Read titanic.txt into a DataFrame called df. The file name is already stored in the file object."
   ]
  },
  {
   "cell_type": "code",
   "execution_count": 100,
   "metadata": {},
   "outputs": [
    {
     "ename": "TypeError",
     "evalue": "parser_f() got an unexpected keyword argument 'regex'",
     "output_type": "error",
     "traceback": [
      "\u001b[1;31m---------------------------------------------------------------------------\u001b[0m",
      "\u001b[1;31mTypeError\u001b[0m                                 Traceback (most recent call last)",
      "\u001b[1;32m<ipython-input-100-b55f1d937b3a>\u001b[0m in \u001b[0;36m<module>\u001b[1;34m()\u001b[0m\n\u001b[0;32m      3\u001b[0m \u001b[1;33m\u001b[0m\u001b[0m\n\u001b[0;32m      4\u001b[0m \u001b[1;31m# Read the file into a DataFrame: df\u001b[0m\u001b[1;33m\u001b[0m\u001b[1;33m\u001b[0m\u001b[0m\n\u001b[1;32m----> 5\u001b[1;33m \u001b[0mdf1\u001b[0m \u001b[1;33m=\u001b[0m \u001b[0mpd\u001b[0m\u001b[1;33m.\u001b[0m\u001b[0mread_csv\u001b[0m\u001b[1;33m(\u001b[0m\u001b[0mfile\u001b[0m\u001b[1;33m,\u001b[0m\u001b[0msep\u001b[0m\u001b[1;33m=\u001b[0m\u001b[1;34m\"'|,\"\u001b[0m\u001b[1;33m,\u001b[0m\u001b[0mheader\u001b[0m\u001b[1;33m=\u001b[0m\u001b[1;32mNone\u001b[0m\u001b[1;33m,\u001b[0m\u001b[0mregex\u001b[0m\u001b[1;33m=\u001b[0m\u001b[1;32mTrue\u001b[0m\u001b[1;33m)\u001b[0m\u001b[1;33m\u001b[0m\u001b[0m\n\u001b[0m\u001b[0;32m      6\u001b[0m \u001b[1;31m#df=pd.DataFrame(df1,sep=\",\")\u001b[0m\u001b[1;33m\u001b[0m\u001b[1;33m\u001b[0m\u001b[0m\n",
      "\u001b[1;31mTypeError\u001b[0m: parser_f() got an unexpected keyword argument 'regex'"
     ]
    }
   ],
   "source": [
    "# Assign the filename: file\n",
    "file = 'titanic.txt'\n",
    "\n",
    "# Read the file into a DataFrame: df\n",
    "df1 = pd.read_csv(file,sep=\"'|,\",header=None,regex=True)\n",
    "#df=pd.DataFrame(df1,sep=\",\")"
   ]
  },
  {
   "cell_type": "markdown",
   "metadata": {},
   "source": [
    "### In a print() call, view the head of the DataFrame."
   ]
  },
  {
   "cell_type": "code",
   "execution_count": 90,
   "metadata": {},
   "outputs": [
    {
     "data": {
      "text/html": [
       "<div>\n",
       "<style scoped>\n",
       "    .dataframe tbody tr th:only-of-type {\n",
       "        vertical-align: middle;\n",
       "    }\n",
       "\n",
       "    .dataframe tbody tr th {\n",
       "        vertical-align: top;\n",
       "    }\n",
       "\n",
       "    .dataframe thead th {\n",
       "        text-align: right;\n",
       "    }\n",
       "</style>\n",
       "<table border=\"1\" class=\"dataframe\">\n",
       "  <thead>\n",
       "    <tr style=\"text-align: right;\">\n",
       "      <th></th>\n",
       "      <th>0</th>\n",
       "      <th>1</th>\n",
       "      <th>2</th>\n",
       "      <th>3</th>\n",
       "      <th>4</th>\n",
       "      <th>5</th>\n",
       "      <th>6</th>\n",
       "      <th>7</th>\n",
       "      <th>8</th>\n",
       "    </tr>\n",
       "  </thead>\n",
       "  <tbody>\n",
       "    <tr>\n",
       "      <th>0</th>\n",
       "      <td>[(1, 0, 3, b</td>\n",
       "      <td>male</td>\n",
       "      <td>, 22.0, 1, 0, b</td>\n",
       "      <td>A/5 21171</td>\n",
       "      <td>, 7.25, b</td>\n",
       "      <td>NaN</td>\n",
       "      <td>, b</td>\n",
       "      <td>S</td>\n",
       "      <td>)</td>\n",
       "    </tr>\n",
       "    <tr>\n",
       "      <th>1</th>\n",
       "      <td>(2, 1, 1, b</td>\n",
       "      <td>female</td>\n",
       "      <td>, 38.0, 1, 0, b</td>\n",
       "      <td>PC 17599</td>\n",
       "      <td>, 71.2833, b</td>\n",
       "      <td>C85</td>\n",
       "      <td>, b</td>\n",
       "      <td>C</td>\n",
       "      <td>)</td>\n",
       "    </tr>\n",
       "    <tr>\n",
       "      <th>2</th>\n",
       "      <td>(3, 1, 3, b</td>\n",
       "      <td>female</td>\n",
       "      <td>, 26.0, 0, 0, b</td>\n",
       "      <td>STON/O2. 3101282</td>\n",
       "      <td>, 7.925, b</td>\n",
       "      <td>NaN</td>\n",
       "      <td>, b</td>\n",
       "      <td>S</td>\n",
       "      <td>)</td>\n",
       "    </tr>\n",
       "    <tr>\n",
       "      <th>3</th>\n",
       "      <td>(4, 1, 1, b</td>\n",
       "      <td>female</td>\n",
       "      <td>, 35.0, 1, 0, b</td>\n",
       "      <td>113803</td>\n",
       "      <td>, 53.1, b</td>\n",
       "      <td>C123</td>\n",
       "      <td>, b</td>\n",
       "      <td>S</td>\n",
       "      <td>)</td>\n",
       "    </tr>\n",
       "    <tr>\n",
       "      <th>4</th>\n",
       "      <td>(5, 0, 3, b</td>\n",
       "      <td>male</td>\n",
       "      <td>, 35.0, 0, 0, b</td>\n",
       "      <td>373450</td>\n",
       "      <td>, 8.05, b</td>\n",
       "      <td>NaN</td>\n",
       "      <td>, b</td>\n",
       "      <td>S</td>\n",
       "      <td>)</td>\n",
       "    </tr>\n",
       "  </tbody>\n",
       "</table>\n",
       "</div>"
      ],
      "text/plain": [
       "              0       1                2                 3             4  \\\n",
       "0  [(1, 0, 3, b    male  , 22.0, 1, 0, b         A/5 21171     , 7.25, b   \n",
       "1   (2, 1, 1, b  female  , 38.0, 1, 0, b          PC 17599  , 71.2833, b   \n",
       "2   (3, 1, 3, b  female  , 26.0, 0, 0, b  STON/O2. 3101282    , 7.925, b   \n",
       "3   (4, 1, 1, b  female  , 35.0, 1, 0, b            113803     , 53.1, b   \n",
       "4   (5, 0, 3, b    male  , 35.0, 0, 0, b            373450     , 8.05, b   \n",
       "\n",
       "      5    6  7  8  \n",
       "0   NaN  , b  S  )  \n",
       "1   C85  , b  C  )  \n",
       "2   NaN  , b  S  )  \n",
       "3  C123  , b  S  )  \n",
       "4   NaN  , b  S  )  "
      ]
     },
     "execution_count": 90,
     "metadata": {},
     "output_type": "execute_result"
    }
   ],
   "source": [
    "# View the head of the DataFrame\n",
    "df.head()\n",
    "#must give ()"
   ]
  },
  {
   "cell_type": "code",
   "execution_count": null,
   "metadata": {},
   "outputs": [],
   "source": []
  },
  {
   "cell_type": "code",
   "execution_count": null,
   "metadata": {},
   "outputs": [],
   "source": []
  },
  {
   "cell_type": "code",
   "execution_count": null,
   "metadata": {},
   "outputs": [],
   "source": []
  }
 ],
 "metadata": {
  "kernelspec": {
   "display_name": "Python 3",
   "language": "python",
   "name": "python3"
  },
  "language_info": {
   "codemirror_mode": {
    "name": "ipython",
    "version": 3
   },
   "file_extension": ".py",
   "mimetype": "text/x-python",
   "name": "python",
   "nbconvert_exporter": "python",
   "pygments_lexer": "ipython3",
   "version": "3.6.4"
  }
 },
 "nbformat": 4,
 "nbformat_minor": 2
}
