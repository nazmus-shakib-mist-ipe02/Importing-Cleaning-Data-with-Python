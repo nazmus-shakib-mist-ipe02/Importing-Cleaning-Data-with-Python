{
 "cells": [
  {
   "cell_type": "markdown",
   "metadata": {},
   "source": [
    "> ### To sort the result output by a field, we use the .order_by() method. By default, the .order_by() method sorts from lowest to highest on the supplied column. You just have to pass in the name of the column you want sorted to .order_by().\n",
    "\n",
    "> ### In the video, for example, Jason used stmt.order_by(census.columns.state) to sort the result output by the state column."
   ]
  },
  {
   "cell_type": "markdown",
   "metadata": {},
   "source": [
    "### Import and_ from the sqlalchemy module."
   ]
  },
  {
   "cell_type": "code",
   "execution_count": 4,
   "metadata": {},
   "outputs": [],
   "source": [
    "# Import and_\n",
    "from sqlalchemy import and_,create_engine, Table, MetaData,select\n"
   ]
  },
  {
   "cell_type": "code",
   "execution_count": 5,
   "metadata": {},
   "outputs": [],
   "source": [
    "# Create an engine that connects to the census.sqlite file: engine\n",
    "engine = create_engine('sqlite:///census.sqlite')\n"
   ]
  },
  {
   "cell_type": "code",
   "execution_count": 6,
   "metadata": {},
   "outputs": [],
   "source": [
    "metadata=MetaData()"
   ]
  },
  {
   "cell_type": "code",
   "execution_count": 7,
   "metadata": {},
   "outputs": [],
   "source": [
    "# Reflect census table from the engine: census\n",
    "census = Table('census',metadata,autoload=True,autoload_with=engine)\n"
   ]
  },
  {
   "cell_type": "markdown",
   "metadata": {},
   "source": [
    "### Select all records of the state column from the census table. To do this, pass census.columns.state as a list to select()."
   ]
  },
  {
   "cell_type": "code",
   "execution_count": 8,
   "metadata": {},
   "outputs": [],
   "source": [
    "# Build a query to select the state column: stmt\n",
    "stmt = select([census.columns.state])\n"
   ]
  },
  {
   "cell_type": "markdown",
   "metadata": {},
   "source": [
    "### Append an .order_by() to sort the result output by the state column."
   ]
  },
  {
   "cell_type": "code",
   "execution_count": 20,
   "metadata": {},
   "outputs": [],
   "source": [
    "# Order stmt by the state column\n",
    "stmt = stmt.order_by(census.columns.state)\n",
    "#order_by ()it will also give the same result"
   ]
  },
  {
   "cell_type": "code",
   "execution_count": 17,
   "metadata": {},
   "outputs": [],
   "source": [
    "connection = engine.connect()"
   ]
  },
  {
   "cell_type": "markdown",
   "metadata": {},
   "source": [
    "### Execute stmt using the .execute() method on connection and retrieve all the results using .fetchall()."
   ]
  },
  {
   "cell_type": "code",
   "execution_count": 18,
   "metadata": {},
   "outputs": [],
   "source": [
    "# Execute the query and store the results: results\n",
    "results = connection.execute(stmt).fetchall()"
   ]
  },
  {
   "cell_type": "markdown",
   "metadata": {},
   "source": [
    "### Print the first 1000 rows of results"
   ]
  },
  {
   "cell_type": "code",
   "execution_count": 19,
   "metadata": {},
   "outputs": [
    {
     "name": "stdout",
     "output_type": "stream",
     "text": [
      "[('Alabama',), ('Alabama',), ('Alabama',), ('Alabama',), ('Alabama',), ('Alabama',), ('Alabama',), ('Alabama',), ('Alabama',), ('Alabama',), ('Alabama',), ('Alabama',), ('Alabama',), ('Alabama',), ('Alabama',), ('Alabama',), ('Alabama',), ('Alabama',), ('Alabama',), ('Alabama',), ('Alabama',), ('Alabama',), ('Alabama',), ('Alabama',), ('Alabama',), ('Alabama',), ('Alabama',), ('Alabama',), ('Alabama',), ('Alabama',), ('Alabama',), ('Alabama',), ('Alabama',), ('Alabama',), ('Alabama',), ('Alabama',), ('Alabama',), ('Alabama',), ('Alabama',), ('Alabama',), ('Alabama',), ('Alabama',), ('Alabama',), ('Alabama',), ('Alabama',), ('Alabama',), ('Alabama',), ('Alabama',), ('Alabama',), ('Alabama',), ('Alabama',), ('Alabama',), ('Alabama',), ('Alabama',), ('Alabama',), ('Alabama',), ('Alabama',), ('Alabama',), ('Alabama',), ('Alabama',), ('Alabama',), ('Alabama',), ('Alabama',), ('Alabama',), ('Alabama',), ('Alabama',), ('Alabama',), ('Alabama',), ('Alabama',), ('Alabama',), ('Alabama',), ('Alabama',), ('Alabama',), ('Alabama',), ('Alabama',), ('Alabama',), ('Alabama',), ('Alabama',), ('Alabama',), ('Alabama',), ('Alabama',), ('Alabama',), ('Alabama',), ('Alabama',), ('Alabama',), ('Alabama',), ('Alabama',), ('Alabama',), ('Alabama',), ('Alabama',), ('Alabama',), ('Alabama',), ('Alabama',), ('Alabama',), ('Alabama',), ('Alabama',), ('Alabama',), ('Alabama',), ('Alabama',), ('Alabama',), ('Alabama',), ('Alabama',), ('Alabama',), ('Alabama',), ('Alabama',), ('Alabama',), ('Alabama',), ('Alabama',), ('Alabama',), ('Alabama',), ('Alabama',), ('Alabama',), ('Alabama',), ('Alabama',), ('Alabama',), ('Alabama',), ('Alabama',), ('Alabama',), ('Alabama',), ('Alabama',), ('Alabama',), ('Alabama',), ('Alabama',), ('Alabama',), ('Alabama',), ('Alabama',), ('Alabama',), ('Alabama',), ('Alabama',), ('Alabama',), ('Alabama',), ('Alabama',), ('Alabama',), ('Alabama',), ('Alabama',), ('Alabama',), ('Alabama',), ('Alabama',), ('Alabama',), ('Alabama',), ('Alabama',), ('Alabama',), ('Alabama',), ('Alabama',), ('Alabama',), ('Alabama',), ('Alabama',), ('Alabama',), ('Alabama',), ('Alabama',), ('Alabama',), ('Alabama',), ('Alabama',), ('Alabama',), ('Alabama',), ('Alabama',), ('Alabama',), ('Alabama',), ('Alabama',), ('Alabama',), ('Alabama',), ('Alabama',), ('Alabama',), ('Alabama',), ('Alabama',), ('Alabama',), ('Alabama',), ('Alabama',), ('Alabama',), ('Alabama',), ('Alabama',), ('Alabama',), ('Alaska',), ('Alaska',), ('Alaska',), ('Alaska',), ('Alaska',), ('Alaska',), ('Alaska',), ('Alaska',), ('Alaska',), ('Alaska',), ('Alaska',), ('Alaska',), ('Alaska',), ('Alaska',), ('Alaska',), ('Alaska',), ('Alaska',), ('Alaska',), ('Alaska',), ('Alaska',), ('Alaska',), ('Alaska',), ('Alaska',), ('Alaska',), ('Alaska',), ('Alaska',), ('Alaska',), ('Alaska',), ('Alaska',), ('Alaska',), ('Alaska',), ('Alaska',), ('Alaska',), ('Alaska',), ('Alaska',), ('Alaska',), ('Alaska',), ('Alaska',), ('Alaska',), ('Alaska',), ('Alaska',), ('Alaska',), ('Alaska',), ('Alaska',), ('Alaska',), ('Alaska',), ('Alaska',), ('Alaska',), ('Alaska',), ('Alaska',), ('Alaska',), ('Alaska',), ('Alaska',), ('Alaska',), ('Alaska',), ('Alaska',), ('Alaska',), ('Alaska',), ('Alaska',), ('Alaska',), ('Alaska',), ('Alaska',), ('Alaska',), ('Alaska',), ('Alaska',), ('Alaska',), ('Alaska',), ('Alaska',), ('Alaska',), ('Alaska',), ('Alaska',), ('Alaska',), ('Alaska',), ('Alaska',), ('Alaska',), ('Alaska',), ('Alaska',), ('Alaska',), ('Alaska',), ('Alaska',), ('Alaska',), ('Alaska',), ('Alaska',), ('Alaska',), ('Alaska',), ('Alaska',), ('Alaska',), ('Alaska',), ('Alaska',), ('Alaska',), ('Alaska',), ('Alaska',), ('Alaska',), ('Alaska',), ('Alaska',), ('Alaska',), ('Alaska',), ('Alaska',), ('Alaska',), ('Alaska',), ('Alaska',), ('Alaska',), ('Alaska',), ('Alaska',), ('Alaska',), ('Alaska',), ('Alaska',), ('Alaska',), ('Alaska',), ('Alaska',), ('Alaska',), ('Alaska',), ('Alaska',), ('Alaska',), ('Alaska',), ('Alaska',), ('Alaska',), ('Alaska',), ('Alaska',), ('Alaska',), ('Alaska',), ('Alaska',), ('Alaska',), ('Alaska',), ('Alaska',), ('Alaska',), ('Alaska',), ('Alaska',), ('Alaska',), ('Alaska',), ('Alaska',), ('Alaska',), ('Alaska',), ('Alaska',), ('Alaska',), ('Alaska',), ('Alaska',), ('Alaska',), ('Alaska',), ('Alaska',), ('Alaska',), ('Alaska',), ('Alaska',), ('Alaska',), ('Alaska',), ('Alaska',), ('Alaska',), ('Alaska',), ('Alaska',), ('Alaska',), ('Alaska',), ('Alaska',), ('Alaska',), ('Alaska',), ('Alaska',), ('Alaska',), ('Alaska',), ('Alaska',), ('Alaska',), ('Alaska',), ('Alaska',), ('Alaska',), ('Alaska',), ('Alaska',), ('Alaska',), ('Alaska',), ('Alaska',), ('Alaska',), ('Alaska',), ('Alaska',), ('Alaska',), ('Alaska',), ('Arizona',), ('Arizona',), ('Arizona',), ('Arizona',), ('Arizona',), ('Arizona',), ('Arizona',), ('Arizona',), ('Arizona',), ('Arizona',), ('Arizona',), ('Arizona',), ('Arizona',), ('Arizona',), ('Arizona',), ('Arizona',), ('Arizona',), ('Arizona',), ('Arizona',), ('Arizona',), ('Arizona',), ('Arizona',), ('Arizona',), ('Arizona',), ('Arizona',), ('Arizona',), ('Arizona',), ('Arizona',), ('Arizona',), ('Arizona',), ('Arizona',), ('Arizona',), ('Arizona',), ('Arizona',), ('Arizona',), ('Arizona',), ('Arizona',), ('Arizona',), ('Arizona',), ('Arizona',), ('Arizona',), ('Arizona',), ('Arizona',), ('Arizona',), ('Arizona',), ('Arizona',), ('Arizona',), ('Arizona',), ('Arizona',), ('Arizona',), ('Arizona',), ('Arizona',), ('Arizona',), ('Arizona',), ('Arizona',), ('Arizona',), ('Arizona',), ('Arizona',), ('Arizona',), ('Arizona',), ('Arizona',), ('Arizona',), ('Arizona',), ('Arizona',), ('Arizona',), ('Arizona',), ('Arizona',), ('Arizona',), ('Arizona',), ('Arizona',), ('Arizona',), ('Arizona',), ('Arizona',), ('Arizona',), ('Arizona',), ('Arizona',), ('Arizona',), ('Arizona',), ('Arizona',), ('Arizona',), ('Arizona',), ('Arizona',), ('Arizona',), ('Arizona',), ('Arizona',), ('Arizona',), ('Arizona',), ('Arizona',), ('Arizona',), ('Arizona',), ('Arizona',), ('Arizona',), ('Arizona',), ('Arizona',), ('Arizona',), ('Arizona',), ('Arizona',), ('Arizona',), ('Arizona',), ('Arizona',), ('Arizona',), ('Arizona',), ('Arizona',), ('Arizona',), ('Arizona',), ('Arizona',), ('Arizona',), ('Arizona',), ('Arizona',), ('Arizona',), ('Arizona',), ('Arizona',), ('Arizona',), ('Arizona',), ('Arizona',), ('Arizona',), ('Arizona',), ('Arizona',), ('Arizona',), ('Arizona',), ('Arizona',), ('Arizona',), ('Arizona',), ('Arizona',), ('Arizona',), ('Arizona',), ('Arizona',), ('Arizona',), ('Arizona',), ('Arizona',), ('Arizona',), ('Arizona',), ('Arizona',), ('Arizona',), ('Arizona',), ('Arizona',), ('Arizona',), ('Arizona',), ('Arizona',), ('Arizona',), ('Arizona',), ('Arizona',), ('Arizona',), ('Arizona',), ('Arizona',), ('Arizona',), ('Arizona',), ('Arizona',), ('Arizona',), ('Arizona',), ('Arizona',), ('Arizona',), ('Arizona',), ('Arizona',), ('Arizona',), ('Arizona',), ('Arizona',), ('Arizona',), ('Arizona',), ('Arizona',), ('Arizona',), ('Arizona',), ('Arizona',), ('Arizona',), ('Arizona',), ('Arizona',), ('Arizona',), ('Arizona',), ('Arizona',), ('Arizona',), ('Arizona',), ('Arizona',), ('Arkansas',), ('Arkansas',), ('Arkansas',), ('Arkansas',), ('Arkansas',), ('Arkansas',), ('Arkansas',), ('Arkansas',), ('Arkansas',), ('Arkansas',), ('Arkansas',), ('Arkansas',), ('Arkansas',), ('Arkansas',), ('Arkansas',), ('Arkansas',), ('Arkansas',), ('Arkansas',), ('Arkansas',), ('Arkansas',), ('Arkansas',), ('Arkansas',), ('Arkansas',), ('Arkansas',), ('Arkansas',), ('Arkansas',), ('Arkansas',), ('Arkansas',), ('Arkansas',), ('Arkansas',), ('Arkansas',), ('Arkansas',), ('Arkansas',), ('Arkansas',), ('Arkansas',), ('Arkansas',), ('Arkansas',), ('Arkansas',), ('Arkansas',), ('Arkansas',), ('Arkansas',), ('Arkansas',), ('Arkansas',), ('Arkansas',), ('Arkansas',), ('Arkansas',), ('Arkansas',), ('Arkansas',), ('Arkansas',), ('Arkansas',), ('Arkansas',), ('Arkansas',), ('Arkansas',), ('Arkansas',), ('Arkansas',), ('Arkansas',), ('Arkansas',), ('Arkansas',), ('Arkansas',), ('Arkansas',), ('Arkansas',), ('Arkansas',), ('Arkansas',), ('Arkansas',), ('Arkansas',), ('Arkansas',), ('Arkansas',), ('Arkansas',), ('Arkansas',), ('Arkansas',), ('Arkansas',), ('Arkansas',), ('Arkansas',), ('Arkansas',), ('Arkansas',), ('Arkansas',), ('Arkansas',), ('Arkansas',), ('Arkansas',), ('Arkansas',), ('Arkansas',), ('Arkansas',), ('Arkansas',), ('Arkansas',), ('Arkansas',), ('Arkansas',), ('Arkansas',), ('Arkansas',), ('Arkansas',), ('Arkansas',), ('Arkansas',), ('Arkansas',), ('Arkansas',), ('Arkansas',), ('Arkansas',), ('Arkansas',), ('Arkansas',), ('Arkansas',), ('Arkansas',), ('Arkansas',), ('Arkansas',), ('Arkansas',), ('Arkansas',), ('Arkansas',), ('Arkansas',), ('Arkansas',), ('Arkansas',), ('Arkansas',), ('Arkansas',), ('Arkansas',), ('Arkansas',), ('Arkansas',), ('Arkansas',), ('Arkansas',), ('Arkansas',), ('Arkansas',), ('Arkansas',), ('Arkansas',), ('Arkansas',), ('Arkansas',), ('Arkansas',), ('Arkansas',), ('Arkansas',), ('Arkansas',), ('Arkansas',), ('Arkansas',), ('Arkansas',), ('Arkansas',), ('Arkansas',), ('Arkansas',), ('Arkansas',), ('Arkansas',), ('Arkansas',), ('Arkansas',), ('Arkansas',), ('Arkansas',), ('Arkansas',), ('Arkansas',), ('Arkansas',), ('Arkansas',), ('Arkansas',), ('Arkansas',), ('Arkansas',), ('Arkansas',), ('Arkansas',), ('Arkansas',), ('Arkansas',), ('Arkansas',), ('Arkansas',), ('Arkansas',), ('Arkansas',), ('Arkansas',), ('Arkansas',), ('Arkansas',), ('Arkansas',), ('Arkansas',), ('Arkansas',), ('Arkansas',), ('Arkansas',), ('Arkansas',), ('Arkansas',), ('Arkansas',), ('Arkansas',), ('Arkansas',), ('Arkansas',), ('Arkansas',), ('Arkansas',), ('Arkansas',), ('Arkansas',), ('Arkansas',), ('Arkansas',), ('Arkansas',), ('California',), ('California',), ('California',), ('California',), ('California',), ('California',), ('California',), ('California',), ('California',), ('California',), ('California',), ('California',), ('California',), ('California',), ('California',), ('California',), ('California',), ('California',), ('California',), ('California',), ('California',), ('California',), ('California',), ('California',), ('California',), ('California',), ('California',), ('California',), ('California',), ('California',), ('California',), ('California',), ('California',), ('California',), ('California',), ('California',), ('California',), ('California',), ('California',), ('California',), ('California',), ('California',), ('California',), ('California',), ('California',), ('California',), ('California',), ('California',), ('California',), ('California',), ('California',), ('California',), ('California',), ('California',), ('California',), ('California',), ('California',), ('California',), ('California',), ('California',), ('California',), ('California',), ('California',), ('California',), ('California',), ('California',), ('California',), ('California',), ('California',), ('California',), ('California',), ('California',), ('California',), ('California',), ('California',), ('California',), ('California',), ('California',), ('California',), ('California',), ('California',), ('California',), ('California',), ('California',), ('California',), ('California',), ('California',), ('California',), ('California',), ('California',), ('California',), ('California',), ('California',), ('California',), ('California',), ('California',), ('California',), ('California',), ('California',), ('California',), ('California',), ('California',), ('California',), ('California',), ('California',), ('California',), ('California',), ('California',), ('California',), ('California',), ('California',), ('California',), ('California',), ('California',), ('California',), ('California',), ('California',), ('California',), ('California',), ('California',), ('California',), ('California',), ('California',), ('California',), ('California',), ('California',), ('California',), ('California',), ('California',), ('California',), ('California',), ('California',), ('California',), ('California',), ('California',), ('California',), ('California',), ('California',), ('California',), ('California',), ('California',), ('California',), ('California',), ('California',), ('California',), ('California',), ('California',), ('California',), ('California',), ('California',), ('California',), ('California',), ('California',), ('California',), ('California',), ('California',), ('California',), ('California',), ('California',), ('California',), ('California',), ('California',), ('California',), ('California',), ('California',), ('California',), ('California',), ('California',), ('California',), ('California',), ('California',), ('California',), ('Colorado',), ('Colorado',), ('Colorado',), ('Colorado',), ('Colorado',), ('Colorado',), ('Colorado',), ('Colorado',), ('Colorado',), ('Colorado',), ('Colorado',), ('Colorado',), ('Colorado',), ('Colorado',), ('Colorado',), ('Colorado',), ('Colorado',), ('Colorado',), ('Colorado',), ('Colorado',), ('Colorado',), ('Colorado',), ('Colorado',), ('Colorado',), ('Colorado',), ('Colorado',), ('Colorado',), ('Colorado',), ('Colorado',), ('Colorado',), ('Colorado',), ('Colorado',), ('Colorado',), ('Colorado',), ('Colorado',), ('Colorado',), ('Colorado',), ('Colorado',), ('Colorado',), ('Colorado',), ('Colorado',), ('Colorado',), ('Colorado',), ('Colorado',), ('Colorado',), ('Colorado',), ('Colorado',), ('Colorado',), ('Colorado',), ('Colorado',), ('Colorado',), ('Colorado',), ('Colorado',), ('Colorado',), ('Colorado',), ('Colorado',), ('Colorado',), ('Colorado',), ('Colorado',), ('Colorado',), ('Colorado',), ('Colorado',), ('Colorado',), ('Colorado',), ('Colorado',), ('Colorado',), ('Colorado',), ('Colorado',), ('Colorado',), ('Colorado',), ('Colorado',), ('Colorado',), ('Colorado',), ('Colorado',), ('Colorado',), ('Colorado',), ('Colorado',), ('Colorado',), ('Colorado',), ('Colorado',), ('Colorado',), ('Colorado',), ('Colorado',), ('Colorado',), ('Colorado',), ('Colorado',), ('Colorado',), ('Colorado',), ('Colorado',), ('Colorado',), ('Colorado',), ('Colorado',), ('Colorado',), ('Colorado',), ('Colorado',), ('Colorado',), ('Colorado',), ('Colorado',), ('Colorado',), ('Colorado',), ('Colorado',), ('Colorado',), ('Colorado',), ('Colorado',), ('Colorado',), ('Colorado',), ('Colorado',), ('Colorado',), ('Colorado',), ('Colorado',), ('Colorado',), ('Colorado',), ('Colorado',), ('Colorado',), ('Colorado',), ('Colorado',), ('Colorado',), ('Colorado',), ('Colorado',), ('Colorado',), ('Colorado',), ('Colorado',), ('Colorado',), ('Colorado',), ('Colorado',), ('Colorado',), ('Colorado',), ('Colorado',), ('Colorado',), ('Colorado',), ('Colorado',), ('Colorado',), ('Colorado',), ('Colorado',), ('Colorado',), ('Colorado',), ('Colorado',), ('Colorado',), ('Colorado',), ('Colorado',)]\n"
     ]
    }
   ],
   "source": [
    "# Print the first 10 results\n",
    "print(results[:1000])"
   ]
  },
  {
   "cell_type": "code",
   "execution_count": null,
   "metadata": {},
   "outputs": [],
   "source": []
  },
  {
   "cell_type": "code",
   "execution_count": null,
   "metadata": {},
   "outputs": [],
   "source": []
  }
 ],
 "metadata": {
  "kernelspec": {
   "display_name": "Python 3",
   "language": "python",
   "name": "python3"
  },
  "language_info": {
   "codemirror_mode": {
    "name": "ipython",
    "version": 3
   },
   "file_extension": ".py",
   "mimetype": "text/x-python",
   "name": "python",
   "nbconvert_exporter": "python",
   "pygments_lexer": "ipython3",
   "version": "3.7.0"
  }
 },
 "nbformat": 4,
 "nbformat_minor": 2
}
