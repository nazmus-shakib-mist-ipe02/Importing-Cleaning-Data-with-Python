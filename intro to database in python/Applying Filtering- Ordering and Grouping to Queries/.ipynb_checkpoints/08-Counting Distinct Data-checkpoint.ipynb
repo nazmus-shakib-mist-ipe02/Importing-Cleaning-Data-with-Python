{
 "cells": [
  {
   "cell_type": "markdown",
   "metadata": {},
   "source": [
    "SQLAlchemy's func module provides access to built-in SQL functions that can make operations like counting and summing      faster and more efficient.\n",
    "used func.sum() to get a sum of the pop2008 column of census as shown below:\n",
    "\n",
    "> select([func.sum(census.columns.pop2008)])\n",
    "\n",
    "If instead you want to count the number of values in pop2008, you could use func.count() like this:\n",
    "\n",
    ">  select([func.count(census.columns.pop2008)])\n",
    "\n",
    "Furthermore, if you only want to count the distinct values of `pop2008`, you can use the .distinct() method:\n",
    "\n",
    "> select([func.count(census.columns.pop2008.distinct())])\n",
    "\n",
    "In this exercise, you will practice using func.count() and .distinct() to get a count of the distinct number of states          in census.\n",
    "\n",
    "So far, you've seen .fetchall() and .first() used on a ResultProxy to get the results. The ResultProxy also has a            method  called .scalar() for getting just the value of a query that returns only one row and column.\n",
    "\n",
    "This can be very useful when you are querying for just a count or sum."
   ]
  },
  {
   "cell_type": "code",
   "execution_count": 23,
   "metadata": {},
   "outputs": [],
   "source": [
    "# Import func\n",
    "from sqlalchemy import create_engine, MetaData,select, func\n"
   ]
  },
  {
   "cell_type": "code",
   "execution_count": 20,
   "metadata": {},
   "outputs": [],
   "source": [
    "# Create an engine that connects to the census.sqlite file: engine\n",
    "engine = create_engine('sqlite:///census.sqlite')\n"
   ]
  },
  {
   "cell_type": "code",
   "execution_count": 10,
   "metadata": {},
   "outputs": [],
   "source": [
    "metadata=MetaData()"
   ]
  },
  {
   "cell_type": "code",
   "execution_count": 11,
   "metadata": {},
   "outputs": [],
   "source": [
    "# Reflect census table from the engine: census\n",
    "census = Table('census',metadata,autoload=True,autoload_with=engine)\n"
   ]
  },
  {
   "cell_type": "markdown",
   "metadata": {},
   "source": [
    "* ### Build a select statement to count the distinct values in the state field of census"
   ]
  },
  {
   "cell_type": "code",
   "execution_count": 32,
   "metadata": {},
   "outputs": [],
   "source": [
    "# Build a query to count the distinct states values: stmt\n",
    "stmt = select([func.count(census.columns.state.distinct())])\n",
    "  #  The SQL SELECT DISTINCT Statement. The SELECT DISTINCT statement is used to return only distinct (different) values.\n",
    "  #  Inside a table, a column often contains many duplicate values; \n",
    "  #  and sometimes you only want to list the different (distinct) values.\n"
   ]
  },
  {
   "cell_type": "code",
   "execution_count": 26,
   "metadata": {},
   "outputs": [],
   "source": [
    "connection = engine.connect()"
   ]
  },
  {
   "cell_type": "markdown",
   "metadata": {},
   "source": [
    "* ###  Execute stmt to get the count and store the results as distinct_state_count."
   ]
  },
  {
   "cell_type": "code",
   "execution_count": 27,
   "metadata": {},
   "outputs": [],
   "source": [
    "# Execute the query and store the scalar result: distinct_state_count\n",
    "distinct_state_count = connection.execute(stmt).scalar()\n"
   ]
  },
  {
   "cell_type": "markdown",
   "metadata": {},
   "source": [
    "* ### Print the value of distinct_state_count."
   ]
  },
  {
   "cell_type": "code",
   "execution_count": 28,
   "metadata": {},
   "outputs": [
    {
     "name": "stdout",
     "output_type": "stream",
     "text": [
      "51\n"
     ]
    }
   ],
   "source": [
    "# Print the distinct_state_count\n",
    "print(distinct_state_count)\n"
   ]
  },
  {
   "cell_type": "code",
   "execution_count": null,
   "metadata": {},
   "outputs": [],
   "source": []
  },
  {
   "cell_type": "code",
   "execution_count": null,
   "metadata": {},
   "outputs": [],
   "source": []
  }
 ],
 "metadata": {
  "kernelspec": {
   "display_name": "Python 3",
   "language": "python",
   "name": "python3"
  },
  "language_info": {
   "codemirror_mode": {
    "name": "ipython",
    "version": 3
   },
   "file_extension": ".py",
   "mimetype": "text/x-python",
   "name": "python",
   "nbconvert_exporter": "python",
   "pygments_lexer": "ipython3",
   "version": "3.7.0"
  }
 },
 "nbformat": 4,
 "nbformat_minor": 2
}
