{
 "cells": [
  {
   "cell_type": "code",
   "execution_count": 11,
   "metadata": {},
   "outputs": [],
   "source": [
    "# Import package\n",
    "import pandas as pd"
   ]
  },
  {
   "cell_type": "markdown",
   "metadata": {},
   "source": [
    "### Assign the URL of the file to the variable url."
   ]
  },
  {
   "cell_type": "code",
   "execution_count": 12,
   "metadata": {},
   "outputs": [],
   "source": [
    "# Assign url of file: url\n",
    "url=('http://s3.amazonaws.com/assets.datacamp.com/course/importing_data_into_r/latitude.xls')"
   ]
  },
  {
   "cell_type": "markdown",
   "metadata": {},
   "source": [
    "### Read the file in url into a dictionary xl using pd.read_excel() recalling that, in order to import all sheets you need to pass None to the argument sheetname."
   ]
  },
  {
   "cell_type": "code",
   "execution_count": 17,
   "metadata": {},
   "outputs": [
    {
     "name": "stderr",
     "output_type": "stream",
     "text": [
      "C:\\Users\\shakib\\Anaconda3\\lib\\site-packages\\pandas\\util\\_decorators.py:118: FutureWarning: The `sheetname` keyword is deprecated, use `sheet_name` instead\n",
      "  return func(*args, **kwargs)\n"
     ]
    }
   ],
   "source": [
    "# Read in all sheets of Excel file: xl\n",
    "xl=pd.read_excel(url, sheetname=None)\n",
    "#print(xl.sheet_names) doesn't work because it is dictionary, here there is no file. \n",
    "# the output of pd.read_excel() is a Python dictionary with sheet names as keys and corresponding DataFrames as corresponding values."
   ]
  },
  {
   "cell_type": "markdown",
   "metadata": {},
   "source": [
    "### Print the names of the sheets in the Excel spreadsheet; these will be the keys of the dictionary xl."
   ]
  },
  {
   "cell_type": "code",
   "execution_count": 14,
   "metadata": {},
   "outputs": [
    {
     "name": "stdout",
     "output_type": "stream",
     "text": [
      "odict_keys(['1700', '1900'])\n"
     ]
    }
   ],
   "source": [
    "# Print the sheetnames to the shell\n",
    "print(xl.keys())"
   ]
  },
  {
   "cell_type": "markdown",
   "metadata": {},
   "source": [
    "### Print the head of the first sheet using the sheet name, not the index of the sheet! The sheet name is '1700'"
   ]
  },
  {
   "cell_type": "code",
   "execution_count": 20,
   "metadata": {},
   "outputs": [
    {
     "name": "stdout",
     "output_type": "stream",
     "text": [
      "                      country       1700\n",
      "0                 Afghanistan  34.565000\n",
      "1       Akrotiri and Dhekelia  34.616667\n",
      "2                     Albania  41.312000\n",
      "3                     Algeria  36.720000\n",
      "4              American Samoa -14.307000\n",
      "5                     Andorra  42.546000\n",
      "6                      Angola  -8.843000\n",
      "7                    Anguilla  18.250000\n",
      "8         Antigua and Barbuda  17.072000\n",
      "9                   Argentina -36.676000\n",
      "10                    Armenia  40.254000\n",
      "11                      Aruba  12.513000\n",
      "12                  Australia -32.219000\n",
      "13                    Austria  48.231000\n",
      "14                 Azerbaijan  40.352000\n",
      "15                    Bahamas  24.700000\n",
      "16                    Bahrain  26.024000\n",
      "17                 Bangladesh  23.880000\n",
      "18                   Barbados  13.179000\n",
      "19                    Belarus  53.547090\n",
      "20                    Belgium  50.837000\n",
      "21                     Belize  17.843000\n",
      "22                      Benin   6.364000\n",
      "23                    Bermuda  32.217000\n",
      "24                     Bhutan  27.479000\n",
      "25                    Bolivia -15.190000\n",
      "26     Bosnia and Herzegovina  44.175010\n",
      "27                   Botswana -21.536000\n",
      "28                     Brazil -19.557000\n",
      "29     British Virgin Islands  18.500000\n",
      "..                        ...        ...\n",
      "216                      Togo   6.194000\n",
      "217                   Tokelau  -9.000000\n",
      "218                     Tonga -21.173000\n",
      "219       Trinidad and Tobago  10.418000\n",
      "220                   Tunisia  36.816000\n",
      "221                    Turkey  41.202000\n",
      "222              Turkmenistan  39.129380\n",
      "223  Turks and Caicos Islands  21.750000\n",
      "224                    Tuvalu  -8.000000\n",
      "225                    Uganda   0.228000\n",
      "226                   Ukraine  50.281000\n",
      "227      United Arab Emirates  23.390000\n",
      "228            United Kingdom  51.510000\n",
      "229             United States  34.360000\n",
      "230                   Uruguay -34.822000\n",
      "231                      USSR        NaN\n",
      "232                Uzbekistan  41.272000\n",
      "233          Wallis et Futuna -13.300000\n",
      "234                   Vanuatu -15.233000\n",
      "235                 Venezuela   9.843000\n",
      "236        West Bank and Gaza  31.416667\n",
      "237              West Germany        NaN\n",
      "238            Western Sahara  24.619130\n",
      "239                   Vietnam  10.798000\n",
      "240     Virgin Islands (U.S.)  17.736000\n",
      "241               Yemen, Rep.  15.228000\n",
      "242                Yugoslavia        NaN\n",
      "243                    Zambia -12.942000\n",
      "244                  Zimbabwe -17.876000\n",
      "245                     Åland  60.000000\n",
      "\n",
      "[246 rows x 2 columns]\n"
     ]
    }
   ],
   "source": [
    "# Print the head of the first sheet (using its name, NOT its index)\n",
    "print(xl['1700'])\n"
   ]
  },
  {
   "cell_type": "code",
   "execution_count": 19,
   "metadata": {},
   "outputs": [
    {
     "data": {
      "text/plain": [
       "OrderedDict([('1700',                       country       1700\n",
       "              0                 Afghanistan  34.565000\n",
       "              1       Akrotiri and Dhekelia  34.616667\n",
       "              2                     Albania  41.312000\n",
       "              3                     Algeria  36.720000\n",
       "              4              American Samoa -14.307000\n",
       "              5                     Andorra  42.546000\n",
       "              6                      Angola  -8.843000\n",
       "              7                    Anguilla  18.250000\n",
       "              8         Antigua and Barbuda  17.072000\n",
       "              9                   Argentina -36.676000\n",
       "              10                    Armenia  40.254000\n",
       "              11                      Aruba  12.513000\n",
       "              12                  Australia -32.219000\n",
       "              13                    Austria  48.231000\n",
       "              14                 Azerbaijan  40.352000\n",
       "              15                    Bahamas  24.700000\n",
       "              16                    Bahrain  26.024000\n",
       "              17                 Bangladesh  23.880000\n",
       "              18                   Barbados  13.179000\n",
       "              19                    Belarus  53.547090\n",
       "              20                    Belgium  50.837000\n",
       "              21                     Belize  17.843000\n",
       "              22                      Benin   6.364000\n",
       "              23                    Bermuda  32.217000\n",
       "              24                     Bhutan  27.479000\n",
       "              25                    Bolivia -15.190000\n",
       "              26     Bosnia and Herzegovina  44.175010\n",
       "              27                   Botswana -21.536000\n",
       "              28                     Brazil -19.557000\n",
       "              29     British Virgin Islands  18.500000\n",
       "              ..                        ...        ...\n",
       "              216                      Togo   6.194000\n",
       "              217                   Tokelau  -9.000000\n",
       "              218                     Tonga -21.173000\n",
       "              219       Trinidad and Tobago  10.418000\n",
       "              220                   Tunisia  36.816000\n",
       "              221                    Turkey  41.202000\n",
       "              222              Turkmenistan  39.129380\n",
       "              223  Turks and Caicos Islands  21.750000\n",
       "              224                    Tuvalu  -8.000000\n",
       "              225                    Uganda   0.228000\n",
       "              226                   Ukraine  50.281000\n",
       "              227      United Arab Emirates  23.390000\n",
       "              228            United Kingdom  51.510000\n",
       "              229             United States  34.360000\n",
       "              230                   Uruguay -34.822000\n",
       "              231                      USSR        NaN\n",
       "              232                Uzbekistan  41.272000\n",
       "              233          Wallis et Futuna -13.300000\n",
       "              234                   Vanuatu -15.233000\n",
       "              235                 Venezuela   9.843000\n",
       "              236        West Bank and Gaza  31.416667\n",
       "              237              West Germany        NaN\n",
       "              238            Western Sahara  24.619130\n",
       "              239                   Vietnam  10.798000\n",
       "              240     Virgin Islands (U.S.)  17.736000\n",
       "              241               Yemen, Rep.  15.228000\n",
       "              242                Yugoslavia        NaN\n",
       "              243                    Zambia -12.942000\n",
       "              244                  Zimbabwe -17.876000\n",
       "              245                     Åland  60.000000\n",
       "              \n",
       "              [246 rows x 2 columns]),\n",
       "             ('1900',                       country       1900\n",
       "              0                 Afghanistan  34.565000\n",
       "              1       Akrotiri and Dhekelia  34.616667\n",
       "              2                     Albania  41.312000\n",
       "              3                     Algeria  36.720000\n",
       "              4              American Samoa -14.307000\n",
       "              5                     Andorra  42.546000\n",
       "              6                      Angola  -8.843000\n",
       "              7                    Anguilla  18.250000\n",
       "              8         Antigua and Barbuda  17.072000\n",
       "              9                   Argentina -36.676000\n",
       "              10                    Armenia  40.254000\n",
       "              11                      Aruba  12.513000\n",
       "              12                  Australia -32.219000\n",
       "              13                    Austria  48.231000\n",
       "              14                 Azerbaijan  40.352000\n",
       "              15                    Bahamas  24.700000\n",
       "              16                    Bahrain  26.024000\n",
       "              17                 Bangladesh  23.880000\n",
       "              18                   Barbados  13.179000\n",
       "              19                    Belarus  53.547090\n",
       "              20                    Belgium  50.837000\n",
       "              21                     Belize  17.843000\n",
       "              22                      Benin   6.364000\n",
       "              23                    Bermuda  32.217000\n",
       "              24                     Bhutan  27.479000\n",
       "              25                    Bolivia -15.190000\n",
       "              26     Bosnia and Herzegovina  44.175010\n",
       "              27                   Botswana -21.536000\n",
       "              28                     Brazil -19.557000\n",
       "              29     British Virgin Islands  18.500000\n",
       "              ..                        ...        ...\n",
       "              216                      Togo   6.194000\n",
       "              217                   Tokelau  -9.000000\n",
       "              218                     Tonga -21.173000\n",
       "              219       Trinidad and Tobago  10.418000\n",
       "              220                   Tunisia  36.816000\n",
       "              221                    Turkey  41.202000\n",
       "              222              Turkmenistan  39.129380\n",
       "              223  Turks and Caicos Islands  21.750000\n",
       "              224                    Tuvalu  -8.000000\n",
       "              225                    Uganda   0.228000\n",
       "              226                   Ukraine  50.281000\n",
       "              227      United Arab Emirates  23.390000\n",
       "              228            United Kingdom  51.510000\n",
       "              229             United States  34.360000\n",
       "              230                   Uruguay -34.822000\n",
       "              231                      USSR        NaN\n",
       "              232                Uzbekistan  41.272000\n",
       "              233          Wallis et Futuna -13.300000\n",
       "              234                   Vanuatu -15.233000\n",
       "              235                 Venezuela   9.843000\n",
       "              236        West Bank and Gaza  31.416667\n",
       "              237              West Germany        NaN\n",
       "              238            Western Sahara  24.619130\n",
       "              239                   Vietnam  10.798000\n",
       "              240     Virgin Islands (U.S.)  17.736000\n",
       "              241               Yemen, Rep.  15.228000\n",
       "              242                Yugoslavia        NaN\n",
       "              243                    Zambia -12.942000\n",
       "              244                  Zimbabwe -17.876000\n",
       "              245                     Åland  60.000000\n",
       "              \n",
       "              [246 rows x 2 columns])])"
      ]
     },
     "execution_count": 19,
     "metadata": {},
     "output_type": "execute_result"
    }
   ],
   "source": [
    "xl"
   ]
  }
 ],
 "metadata": {
  "kernelspec": {
   "display_name": "Python 3",
   "language": "python",
   "name": "python3"
  },
  "language_info": {
   "codemirror_mode": {
    "name": "ipython",
    "version": 3
   },
   "file_extension": ".py",
   "mimetype": "text/x-python",
   "name": "python",
   "nbconvert_exporter": "python",
   "pygments_lexer": "ipython3",
   "version": "3.7.0"
  },
  "toc": {
   "base_numbering": 1,
   "nav_menu": {},
   "number_sections": true,
   "sideBar": true,
   "skip_h1_title": false,
   "title_cell": "Table of Contents",
   "title_sidebar": "Contents",
   "toc_cell": false,
   "toc_position": {},
   "toc_section_display": true,
   "toc_window_display": true
  },
  "varInspector": {
   "cols": {
    "lenName": 16,
    "lenType": 16,
    "lenVar": 40
   },
   "kernels_config": {
    "python": {
     "delete_cmd_postfix": "",
     "delete_cmd_prefix": "del ",
     "library": "var_list.py",
     "varRefreshCmd": "print(var_dic_list())"
    },
    "r": {
     "delete_cmd_postfix": ") ",
     "delete_cmd_prefix": "rm(",
     "library": "var_list.r",
     "varRefreshCmd": "cat(var_dic_list()) "
    }
   },
   "types_to_exclude": [
    "module",
    "function",
    "builtin_function_or_method",
    "instance",
    "_Feature"
   ],
   "window_display": true
  }
 },
 "nbformat": 4,
 "nbformat_minor": 2
}
