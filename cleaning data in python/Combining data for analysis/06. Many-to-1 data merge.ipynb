{
 "cells": [
  {
   "cell_type": "markdown",
   "metadata": {},
   "source": [
    "### Many-to-1 data merge\n",
    "In a many-to-one (or one-to-many) merge, one of the values will be duplicated and recycled in the output. That is, one of the keys in the merge is not unique.\n",
    "\n",
    "Here, the two DataFrames site and visited have been pre-loaded once again. Note that this time, visited has multiple entries for the site column. Confirm this by exploring it in the IPython Shell.\n",
    "\n",
    "The .merge() method call is the same as the 1-to-1 merge from the previous exercise, but the data and output will be different.\n",
    "\n",
    "### Instructions\n",
    "\n",
    "- Merge the site and visited DataFrames on the 'name' column of site and 'site' column of visited, exactly as you did in the previous exercise.\n",
    "- Print the merged DataFrame and then hit 'Submit Answer' to see the different output produced by this merge!"
   ]
  },
  {
   "cell_type": "code",
   "execution_count": 19,
   "metadata": {},
   "outputs": [
    {
     "name": "stdout",
     "output_type": "stream",
     "text": [
      "Index(['name', 'lat', 'long'], dtype='object')\n",
      "    name    lat    long\n",
      "0   DR-1 -49.85 -128.57\n",
      "1   DR-3 -47.15 -126.72\n",
      "2  MSK-4 -48.87 -123.40\n",
      "<class 'pandas.core.frame.DataFrame'>\n"
     ]
    }
   ],
   "source": [
    "import pandas as pd\n",
    "site=pd.read_csv('site.csv')\n",
    "#site=pd.DataFrame(site1)\n",
    "print(site.columns)\n",
    "print(site)\n",
    "print(type(site))"
   ]
  },
  {
   "cell_type": "code",
   "execution_count": 20,
   "metadata": {},
   "outputs": [
    {
     "name": "stdout",
     "output_type": "stream",
     "text": [
      "0     DR-1\n",
      "1     DR-3\n",
      "2    MSK-4\n",
      "Name: name, dtype: object\n"
     ]
    }
   ],
   "source": [
    "print(site1.name)"
   ]
  },
  {
   "cell_type": "code",
   "execution_count": 21,
   "metadata": {},
   "outputs": [
    {
     "name": "stdout",
     "output_type": "stream",
     "text": [
      "Index(['ident', 'site', 'dated'], dtype='object')\n"
     ]
    }
   ],
   "source": [
    "visited1=pd.read_csv('visited.csv')\n",
    "visited=pd.DataFrame(visited1)\n",
    "print(visited.columns)"
   ]
  },
  {
   "cell_type": "code",
   "execution_count": 22,
   "metadata": {},
   "outputs": [
    {
     "name": "stdout",
     "output_type": "stream",
     "text": [
      "0       DR-1\n",
      "1       DR-1\n",
      "2       DR-3\n",
      "3       DR-3\n",
      "4       DR-3\n",
      "5       DR-3\n",
      "6      MSK-4\n",
      "7       DR-1\n",
      "Name: site, dtype: object\n"
     ]
    }
   ],
   "source": [
    "print(visited.site)"
   ]
  },
  {
   "cell_type": "code",
   "execution_count": 23,
   "metadata": {},
   "outputs": [
    {
     "name": "stdout",
     "output_type": "stream",
     "text": [
      "Empty DataFrame\n",
      "Columns: [name, lat, long, ident, site, dated]\n",
      "Index: []\n"
     ]
    }
   ],
   "source": [
    "# Merge the DataFrames: m2o\n",
    "visited1 = visited.drop_duplicates()\n",
    "m2o = pd.merge(left= site, right=visited, left_on='name', right_on='site')\n",
    "\n",
    "# Print m2o\n",
    "print(m2o)"
   ]
  },
  {
   "cell_type": "code",
   "execution_count": 24,
   "metadata": {},
   "outputs": [],
   "source": [
    "A=pd.read_csv('groupby.csv')"
   ]
  },
  {
   "cell_type": "code",
   "execution_count": 25,
   "metadata": {},
   "outputs": [
    {
     "data": {
      "text/html": [
       "<div>\n",
       "<style scoped>\n",
       "    .dataframe tbody tr th:only-of-type {\n",
       "        vertical-align: middle;\n",
       "    }\n",
       "\n",
       "    .dataframe tbody tr th {\n",
       "        vertical-align: top;\n",
       "    }\n",
       "\n",
       "    .dataframe thead th {\n",
       "        text-align: right;\n",
       "    }\n",
       "</style>\n",
       "<table border=\"1\" class=\"dataframe\">\n",
       "  <thead>\n",
       "    <tr style=\"text-align: right;\">\n",
       "      <th></th>\n",
       "      <th>Name</th>\n",
       "      <th>Sid</th>\n",
       "      <th>Use_Case</th>\n",
       "      <th>Revenue</th>\n",
       "    </tr>\n",
       "  </thead>\n",
       "  <tbody>\n",
       "    <tr>\n",
       "      <th>0</th>\n",
       "      <td>A</td>\n",
       "      <td>xx01</td>\n",
       "      <td>Voice</td>\n",
       "      <td>$10.00</td>\n",
       "    </tr>\n",
       "    <tr>\n",
       "      <th>1</th>\n",
       "      <td>A</td>\n",
       "      <td>xx01</td>\n",
       "      <td>SMS</td>\n",
       "      <td>$10.00</td>\n",
       "    </tr>\n",
       "    <tr>\n",
       "      <th>2</th>\n",
       "      <td>B</td>\n",
       "      <td>xx02</td>\n",
       "      <td>Voice</td>\n",
       "      <td>$5.00</td>\n",
       "    </tr>\n",
       "    <tr>\n",
       "      <th>3</th>\n",
       "      <td>C</td>\n",
       "      <td>xx03</td>\n",
       "      <td>Voice</td>\n",
       "      <td>$15.00</td>\n",
       "    </tr>\n",
       "    <tr>\n",
       "      <th>4</th>\n",
       "      <td>C</td>\n",
       "      <td>xx03</td>\n",
       "      <td>SMS</td>\n",
       "      <td>$15.00</td>\n",
       "    </tr>\n",
       "    <tr>\n",
       "      <th>5</th>\n",
       "      <td>C</td>\n",
       "      <td>xx03</td>\n",
       "      <td>Video</td>\n",
       "      <td>$15.00</td>\n",
       "    </tr>\n",
       "  </tbody>\n",
       "</table>\n",
       "</div>"
      ],
      "text/plain": [
       "  Name   Sid Use_Case Revenue\n",
       "0    A  xx01    Voice  $10.00\n",
       "1    A  xx01      SMS  $10.00\n",
       "2    B  xx02    Voice   $5.00\n",
       "3    C  xx03    Voice  $15.00\n",
       "4    C  xx03      SMS  $15.00\n",
       "5    C  xx03    Video  $15.00"
      ]
     },
     "execution_count": 25,
     "metadata": {},
     "output_type": "execute_result"
    }
   ],
   "source": [
    "A"
   ]
  },
  {
   "cell_type": "code",
   "execution_count": 26,
   "metadata": {},
   "outputs": [
    {
     "name": "stdout",
     "output_type": "stream",
     "text": [
      "  Name   Sid           Use_Case Revenue\n",
      "0    A  xx01         Voice, SMS  $10.00\n",
      "1    B  xx02              Voice   $5.00\n",
      "2    C  xx03  Voice, SMS, Video  $15.00\n"
     ]
    }
   ],
   "source": [
    "df = A.groupby('Name').agg({'Sid':'first', \n",
    "                             'Use_Case': ', '.join, \n",
    "                             'Revenue':'first' }).reset_index()\n",
    "print (df[['Name','Sid','Use_Case','Revenue']] )   "
   ]
  },
  {
   "cell_type": "code",
   "execution_count": 27,
   "metadata": {},
   "outputs": [],
   "source": [
    "df = A.groupby(['Name','Sid','Revenue'])['Use_Case'].apply(', '.join).reset_index()"
   ]
  },
  {
   "cell_type": "code",
   "execution_count": 28,
   "metadata": {},
   "outputs": [
    {
     "name": "stdout",
     "output_type": "stream",
     "text": [
      "  Name   Sid           Use_Case Revenue\n",
      "0    A  xx01         Voice, SMS  $10.00\n",
      "1    B  xx02              Voice   $5.00\n",
      "2    C  xx03  Voice, SMS, Video  $15.00\n"
     ]
    }
   ],
   "source": [
    "print(df[['Name','Sid','Use_Case','Revenue']])    "
   ]
  }
 ],
 "metadata": {
  "kernelspec": {
   "display_name": "Python 3",
   "language": "python",
   "name": "python3"
  },
  "language_info": {
   "codemirror_mode": {
    "name": "ipython",
    "version": 3
   },
   "file_extension": ".py",
   "mimetype": "text/x-python",
   "name": "python",
   "nbconvert_exporter": "python",
   "pygments_lexer": "ipython3",
   "version": "3.7.0"
  }
 },
 "nbformat": 4,
 "nbformat_minor": 2
}
