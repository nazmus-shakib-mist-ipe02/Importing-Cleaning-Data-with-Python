{
 "cells": [
  {
   "cell_type": "markdown",
   "metadata": {},
   "source": [
    "### Combining columns of data\n",
    "Think of column-wise concatenation of data as stitching data together from the sides instead of the top and bottom. To perform this action, you use the same pd.concat() function, but this time with the keyword argument axis=1. The default, axis=0, is for a row-wise concatenation.\n",
    "\n",
    "You'll return to the Ebola dataset you worked with briefly in the last chapter. It has been pre-loaded into a DataFrame called ebola_melt. In this DataFrame, the status and country of a patient is contained in a single column. This column has been parsed into a new DataFrame, status_country, where there are separate columns for status and country.\n",
    "\n",
    "Explore the ebola_melt and status_country DataFrames in the IPython Shell. Your job is to concatenate them column-wise in order to obtain a final, clean DataFrame.\n",
    "\n",
    "### Instructions\n",
    "\n",
    "- Concatenate ebola_melt and status_country column-wise into a single DataFrame called ebola_tidy. Be sure to specify axis=1 and to pass the two DataFrames in as a list.\n",
    "- Print the shape and then the head of the concatenated DataFrame, ebola_tidy.\n"
   ]
  },
  {
   "cell_type": "code",
   "execution_count": 1,
   "metadata": {},
   "outputs": [],
   "source": [
    "import pandas as pd\n",
    "weather=pd.read_csv('weather.txt')\n",
    "weather2=pd.read_csv('weather2.txt')\n",
    "weather3=pd.read_csv('weather3.txt')\n",
    "weather4=pd.read_csv('weather4.txt')"
   ]
  },
  {
   "cell_type": "code",
   "execution_count": 2,
   "metadata": {},
   "outputs": [],
   "source": [
    "# Concatenate ebola_melt and status_country column-wise: ebola_tidy\n",
    "ebola_tidy = pd.concat(\n",
    "    [weather, weather2, weather3, weather4],   axis=1\n",
    ")  # cannot concatenate object of type \"<class 'str'>\"; only pd.Series, pd.DataFrame, and pd.Panel (deprecated) objs are valid"
   ]
  },
  {
   "cell_type": "code",
   "execution_count": 3,
   "metadata": {},
   "outputs": [
    {
     "name": "stdout",
     "output_type": "stream",
     "text": [
      "       date      city  temperature  humidity      date      city  temperature  \\\n",
      "0  5/1/2017  new york           65        56  5/1/2017  new york         65.0   \n",
      "1  5/2/2017  new york           66        58  5/1/2017  new york         61.0   \n",
      "2  5/3/2017  new york           68        60  5/2/2017  new york         70.0   \n",
      "3  5/1/2017    mumbai           75        80  5/2/2017  new york         72.0   \n",
      "4  5/2/2017    mumbai           78        83  5/1/2017    mumbai         75.0   \n",
      "5  5/3/2017    mumbai           82        85  5/1/2017    mumbai         78.0   \n",
      "6  5/1/2017   beijing           80        26  5/2/2017    mumbai         82.0   \n",
      "7  5/2/2017   beijing           77        30  5/2/2017    mumbai         80.0   \n",
      "8  5/3/2017   beijing           79        35       NaN       NaN          NaN   \n",
      "\n",
      "   humidity       date      city  temperature  humidity        day  chicago  \\\n",
      "0      56.0   5/1/2017  new york         65.0      56.0     Monday     32.0   \n",
      "1      54.0   5/2/2017  new york         61.0      54.0    Tuesday     30.0   \n",
      "2      60.0   5/3/2017  new york         70.0      60.0  Wednesday     28.0   \n",
      "3      62.0  12/1/2017  new york         30.0      50.0   Thursday     22.0   \n",
      "4      80.0  12/2/2017  new york         28.0      52.0     Friday     30.0   \n",
      "5      83.0  12/3/2017  new york         25.0      51.0   Saturday     20.0   \n",
      "6      85.0        NaN       NaN          NaN       NaN     Sunday     25.0   \n",
      "7      26.0        NaN       NaN          NaN       NaN        NaN      NaN   \n",
      "8       NaN        NaN       NaN          NaN       NaN        NaN      NaN   \n",
      "\n",
      "   chennai  berlin  \n",
      "0     75.0    41.0  \n",
      "1     77.0    43.0  \n",
      "2     75.0    45.0  \n",
      "3     82.0    38.0  \n",
      "4     83.0    30.0  \n",
      "5     81.0    45.0  \n",
      "6     77.0    47.0  \n",
      "7      NaN     NaN  \n",
      "8      NaN     NaN  \n"
     ]
    }
   ],
   "source": [
    "print(ebola_tidy)"
   ]
  },
  {
   "cell_type": "code",
   "execution_count": 4,
   "metadata": {},
   "outputs": [
    {
     "name": "stdout",
     "output_type": "stream",
     "text": [
      "(9, 16)\n",
      "       date      city  temperature  humidity      date      city  temperature  \\\n",
      "0  5/1/2017  new york           65        56  5/1/2017  new york         65.0   \n",
      "1  5/2/2017  new york           66        58  5/1/2017  new york         61.0   \n",
      "2  5/3/2017  new york           68        60  5/2/2017  new york         70.0   \n",
      "3  5/1/2017    mumbai           75        80  5/2/2017  new york         72.0   \n",
      "4  5/2/2017    mumbai           78        83  5/1/2017    mumbai         75.0   \n",
      "\n",
      "   humidity       date      city  temperature  humidity        day  chicago  \\\n",
      "0      56.0   5/1/2017  new york         65.0      56.0     Monday     32.0   \n",
      "1      54.0   5/2/2017  new york         61.0      54.0    Tuesday     30.0   \n",
      "2      60.0   5/3/2017  new york         70.0      60.0  Wednesday     28.0   \n",
      "3      62.0  12/1/2017  new york         30.0      50.0   Thursday     22.0   \n",
      "4      80.0  12/2/2017  new york         28.0      52.0     Friday     30.0   \n",
      "\n",
      "   chennai  berlin  \n",
      "0     75.0    41.0  \n",
      "1     77.0    43.0  \n",
      "2     75.0    45.0  \n",
      "3     82.0    38.0  \n",
      "4     83.0    30.0  \n"
     ]
    }
   ],
   "source": [
    "# Print the shape of row_concat\n",
    "print(ebola_tidy.shape)\n",
    "\n",
    "# Print the head of row_concat\n",
    "print(ebola_tidy.head())"
   ]
  },
  {
   "cell_type": "code",
   "execution_count": null,
   "metadata": {},
   "outputs": [],
   "source": []
  }
 ],
 "metadata": {
  "kernelspec": {
   "display_name": "Python 3",
   "language": "python",
   "name": "python3"
  },
  "language_info": {
   "codemirror_mode": {
    "name": "ipython",
    "version": 3
   },
   "file_extension": ".py",
   "mimetype": "text/x-python",
   "name": "python",
   "nbconvert_exporter": "python",
   "pygments_lexer": "ipython3",
   "version": "3.7.0"
  }
 },
 "nbformat": 4,
 "nbformat_minor": 2
}
