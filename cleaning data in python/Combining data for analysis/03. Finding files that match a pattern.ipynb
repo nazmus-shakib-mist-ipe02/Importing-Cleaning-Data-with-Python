{
 "cells": [
  {
   "cell_type": "markdown",
   "metadata": {},
   "source": [
    "### Finding files that match a pattern\n",
    "You're now going to practice using the glob module to find all csv files in the workspace. In the next exercise, you'll programmatically load them into DataFrames.\n",
    "\n",
    "As Dan showed you in the video, the glob module has a function called glob that takes a pattern and returns a list of the files in the working directory that match that pattern.\n",
    "\n",
    "For example, if you know the pattern is part_ single digit number .csv, you can write the pattern as 'part_?.csv' (which would match part_1.csv, part_2.csv, part_3.csv, etc.)\n",
    "\n",
    "Similarly, you can find all .csv files with '*.csv', or all parts with 'part_*'. The ? wildcard represents any 1 character, and the * wildcard represents any number of characters.\n",
    "\n",
    "### Instructions\n",
    "\n",
    "- Import the glob module along with pandas (as its usual alias pd).\n",
    "- Write a pattern to match all .csv files.\n",
    "- Save all files that match the pattern using the glob() function within the glob module. That is, by using glob.glob().\n",
    "- Print the list of file names. This has been done for you.\n",
    "- Read the second file in csv_files (i.e., index 1) into a DataFrame called csv2.\n",
    "- Hit 'Submit Answer' to print the head of csv2. Does it look familiar?"
   ]
  },
  {
   "cell_type": "code",
   "execution_count": 3,
   "metadata": {},
   "outputs": [],
   "source": [
    "import glob\n",
    "import pandas as pd"
   ]
  },
  {
   "cell_type": "code",
   "execution_count": 4,
   "metadata": {},
   "outputs": [
    {
     "name": "stdout",
     "output_type": "stream",
     "text": [
      "['weather.txt', 'weather2.txt', 'weather3.txt', 'weather4.txt']\n",
      "       date      city  temperature  humidity\n",
      "0  5/1/2017  new york           65        56\n",
      "1  5/1/2017  new york           61        54\n",
      "2  5/2/2017  new york           70        60\n",
      "3  5/2/2017  new york           72        62\n",
      "4  5/1/2017    mumbai           75        80\n"
     ]
    }
   ],
   "source": [
    "\n",
    "# Write the pattern: pattern\n",
    "pattern = '*.txt'\n",
    "\n",
    "# Save all file matches: csv_files\n",
    "csv_files = glob.glob(pattern)\n",
    "\n",
    "# Print the file names\n",
    "print(csv_files)\n",
    "\n",
    "# Load the second file into a DataFrame: csv2\n",
    "csv2 = pd.read_csv(csv_files[1])\n",
    "\n",
    "# Print the head of csv2\n",
    "print(csv2.head())"
   ]
  },
  {
   "cell_type": "code",
   "execution_count": null,
   "metadata": {},
   "outputs": [],
   "source": []
  }
 ],
 "metadata": {
  "kernelspec": {
   "display_name": "Python 3",
   "language": "python",
   "name": "python3"
  },
  "language_info": {
   "codemirror_mode": {
    "name": "ipython",
    "version": 3
   },
   "file_extension": ".py",
   "mimetype": "text/x-python",
   "name": "python",
   "nbconvert_exporter": "python",
   "pygments_lexer": "ipython3",
   "version": "3.7.0"
  }
 },
 "nbformat": 4,
 "nbformat_minor": 2
}
