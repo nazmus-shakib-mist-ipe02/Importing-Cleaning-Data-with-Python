{
 "cells": [
  {
   "cell_type": "markdown",
   "metadata": {},
   "source": [
    "### Resetting the index of a DataFrame\n",
    "After pivoting airquality_melt in the previous exercise, you didn't quite get back the original DataFrame.\n",
    "\n",
    "What you got back instead was a pandas DataFrame with a hierarchical index (also known as a MultiIndex).\n",
    "\n",
    "Hierarchical indexes are covered in depth in Manipulating DataFrames with pandas. In essence, they allow you to group columns or rows by another variable - in this case, by 'Month' as well as 'Day'.\n",
    "\n",
    "There's a very simple method you can use to get back the original DataFrame from the pivoted DataFrame: .reset_index(). We didn't show you how to use this method in the slide, but you're now going to practice using it in this exercise to get back the original DataFrame from airquality_pivot, which has been pre-loaded.\n",
    "\n",
    "### Instructions\n",
    "\n",
    "- Print the index of airquality_pivot by accessing its .index attribute. This has been done for you.\n",
    "- Reset the index of airquality_pivot using its .reset_index() method.\n",
    "- Print the new index of airquality_pivot_reset.\n",
    "- Print the head of airquality_pivot_reset."
   ]
  },
  {
   "cell_type": "code",
   "execution_count": 7,
   "metadata": {},
   "outputs": [],
   "source": [
    "import pandas as pd\n",
    "airquality = pd.read_csv('airquality.csv')\n",
    "airquality_melt = pd.melt(airquality,\n",
    "                          id_vars=['Month', 'Day'],\n",
    "                          var_name='measurement',\n",
    "                          value_name='reading')\n",
    "airquality_pivot = airquality_melt.pivot_table(index=['Month', 'Day'],\n",
    "                                               columns='measurement',\n",
    "                                               values='reading')"
   ]
  },
  {
   "cell_type": "code",
   "execution_count": 8,
   "metadata": {},
   "outputs": [
    {
     "name": "stdout",
     "output_type": "stream",
     "text": [
      "MultiIndex(levels=[[5, 6, 7, 8, 9], [1, 2, 3, 4, 5, 6, 7, 8, 9, 10, 11, 12, 13, 14, 15, 16, 17, 18, 19, 20, 21, 22, 23, 24, 25, 26, 27, 28, 29, 30, 31]],\n",
      "           codes=[[0, 0, 0, 0, 0, 0, 0, 0, 0, 0, 0, 0, 0, 0, 0, 0, 0, 0, 0, 0, 0, 0, 0, 0, 0, 0, 0, 0, 0, 0, 0, 1, 1, 1, 1, 1, 1, 1, 1, 1, 1, 1, 1, 1, 1, 1, 1, 1, 1, 1, 1, 1, 1, 1, 1, 1, 1, 1, 1, 1, 1, 2, 2, 2, 2, 2, 2, 2, 2, 2, 2, 2, 2, 2, 2, 2, 2, 2, 2, 2, 2, 2, 2, 2, 2, 2, 2, 2, 2, 2, 2, 2, 3, 3, 3, 3, 3, 3, 3, 3, 3, 3, 3, 3, 3, 3, 3, 3, 3, 3, 3, 3, 3, 3, 3, 3, 3, 3, 3, 3, 3, 3, 3, 4, 4, 4, 4, 4, 4, 4, 4, 4, 4, 4, 4, 4, 4, 4, 4, 4, 4, 4, 4, 4, 4, 4, 4, 4, 4, 4, 4, 4, 4], [0, 1, 2, 3, 4, 5, 6, 7, 8, 9, 10, 11, 12, 13, 14, 15, 16, 17, 18, 19, 20, 21, 22, 23, 24, 25, 26, 27, 28, 29, 30, 0, 1, 2, 3, 4, 5, 6, 7, 8, 9, 10, 11, 12, 13, 14, 15, 16, 17, 18, 19, 20, 21, 22, 23, 24, 25, 26, 27, 28, 29, 0, 1, 2, 3, 4, 5, 6, 7, 8, 9, 10, 11, 12, 13, 14, 15, 16, 17, 18, 19, 20, 21, 22, 23, 24, 25, 26, 27, 28, 29, 30, 0, 1, 2, 3, 4, 5, 6, 7, 8, 9, 10, 11, 12, 13, 14, 15, 16, 17, 18, 19, 20, 21, 22, 23, 24, 25, 26, 27, 28, 29, 30, 0, 1, 2, 3, 4, 5, 6, 7, 8, 9, 10, 11, 12, 13, 14, 15, 16, 17, 18, 19, 20, 21, 22, 23, 24, 25, 26, 27, 28, 29]],\n",
      "           names=['Month', 'Day'])\n"
     ]
    }
   ],
   "source": [
    "print(airquality_pivot.index)"
   ]
  },
  {
   "cell_type": "code",
   "execution_count": 12,
   "metadata": {},
   "outputs": [
    {
     "name": "stdout",
     "output_type": "stream",
     "text": [
      "RangeIndex(start=0, stop=153, step=1)\n"
     ]
    }
   ],
   "source": [
    "# Reset the index of airquality_pivot: airquality_pivot_reset\n",
    "airquality_pivot_reset = airquality_pivot.reset_index()\n",
    "\n",
    "# Print the new index of airquality_pivot_reset\n",
    "print(airquality_pivot_reset.index)"
   ]
  },
  {
   "cell_type": "code",
   "execution_count": 10,
   "metadata": {},
   "outputs": [
    {
     "name": "stdout",
     "output_type": "stream",
     "text": [
      "measurement  Month  Day  Ozone  Solar.R  Temp  Wind\n",
      "0                5    1   41.0    190.0  67.0   7.4\n",
      "1                5    2   36.0    118.0  72.0   8.0\n",
      "2                5    3   12.0    149.0  74.0  12.6\n",
      "3                5    4   18.0    313.0  62.0  11.5\n",
      "4                5    5    NaN      NaN  56.0  14.3\n",
      "5                5    6   28.0      NaN  66.0  14.9\n",
      "6                5    7   23.0    299.0  65.0   8.6\n",
      "7                5    8   19.0     99.0  59.0  13.8\n",
      "8                5    9    8.0     19.0  61.0  20.1\n",
      "9                5   10    NaN    194.0  69.0   8.6\n",
      "10               5   11    7.0      NaN  74.0   6.9\n",
      "11               5   12   16.0    256.0  69.0   9.7\n",
      "12               5   13   11.0    290.0  66.0   9.2\n",
      "13               5   14   14.0    274.0  68.0  10.9\n",
      "14               5   15   18.0     65.0  58.0  13.2\n",
      "15               5   16   14.0    334.0  64.0  11.5\n",
      "16               5   17   34.0    307.0  66.0  12.0\n",
      "17               5   18    6.0     78.0  57.0  18.4\n",
      "18               5   19   30.0    322.0  68.0  11.5\n",
      "19               5   20   11.0     44.0  62.0   9.7\n",
      "20               5   21    1.0      8.0  59.0   9.7\n",
      "21               5   22   11.0    320.0  73.0  16.6\n",
      "22               5   23    4.0     25.0  61.0   9.7\n",
      "23               5   24   32.0     92.0  61.0  12.0\n",
      "24               5   25    NaN     66.0  57.0  16.6\n",
      "25               5   26    NaN    266.0  58.0  14.9\n",
      "26               5   27    NaN      NaN  57.0   8.0\n",
      "27               5   28   23.0     13.0  67.0  12.0\n",
      "28               5   29   45.0    252.0  81.0  14.9\n",
      "29               5   30  115.0    223.0  79.0   5.7\n",
      "..             ...  ...    ...      ...   ...   ...\n",
      "123              9    1   96.0    167.0  91.0   6.9\n",
      "124              9    2   78.0    197.0  92.0   5.1\n",
      "125              9    3   73.0    183.0  93.0   2.8\n",
      "126              9    4   91.0    189.0  93.0   4.6\n",
      "127              9    5   47.0     95.0  87.0   7.4\n",
      "128              9    6   32.0     92.0  84.0  15.5\n",
      "129              9    7   20.0    252.0  80.0  10.9\n",
      "130              9    8   23.0    220.0  78.0  10.3\n",
      "131              9    9   21.0    230.0  75.0  10.9\n",
      "132              9   10   24.0    259.0  73.0   9.7\n",
      "133              9   11   44.0    236.0  81.0  14.9\n",
      "134              9   12   21.0    259.0  76.0  15.5\n",
      "135              9   13   28.0    238.0  77.0   6.3\n",
      "136              9   14    9.0     24.0  71.0  10.9\n",
      "137              9   15   13.0    112.0  71.0  11.5\n",
      "138              9   16   46.0    237.0  78.0   6.9\n",
      "139              9   17   18.0    224.0  67.0  13.8\n",
      "140              9   18   13.0     27.0  76.0  10.3\n",
      "141              9   19   24.0    238.0  68.0  10.3\n",
      "142              9   20   16.0    201.0  82.0   8.0\n",
      "143              9   21   13.0    238.0  64.0  12.6\n",
      "144              9   22   23.0     14.0  71.0   9.2\n",
      "145              9   23   36.0    139.0  81.0  10.3\n",
      "146              9   24    7.0     49.0  69.0  10.3\n",
      "147              9   25   14.0     20.0  63.0  16.6\n",
      "148              9   26   30.0    193.0  70.0   6.9\n",
      "149              9   27    NaN    145.0  77.0  13.2\n",
      "150              9   28   14.0    191.0  75.0  14.3\n",
      "151              9   29   18.0    131.0  76.0   8.0\n",
      "152              9   30   20.0    223.0  68.0  11.5\n",
      "\n",
      "[153 rows x 6 columns]\n"
     ]
    }
   ],
   "source": [
    "# Print the head of airquality_pivot_reset\n",
    "print(airquality_pivot_reset)\n"
   ]
  }
 ],
 "metadata": {
  "kernelspec": {
   "display_name": "Python 3",
   "language": "python",
   "name": "python3"
  },
  "language_info": {
   "codemirror_mode": {
    "name": "ipython",
    "version": 3
   },
   "file_extension": ".py",
   "mimetype": "text/x-python",
   "name": "python",
   "nbconvert_exporter": "python",
   "pygments_lexer": "ipython3",
   "version": "3.7.0"
  }
 },
 "nbformat": 4,
 "nbformat_minor": 2
}
