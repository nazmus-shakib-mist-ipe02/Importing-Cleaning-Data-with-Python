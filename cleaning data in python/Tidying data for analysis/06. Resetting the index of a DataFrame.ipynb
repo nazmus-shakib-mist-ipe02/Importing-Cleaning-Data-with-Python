{
 "cells": [
  {
   "cell_type": "markdown",
   "metadata": {},
   "source": [
    "### Resetting the index of a DataFrame\n",
    "After pivoting airquality_melt in the previous exercise, you didn't quite get back the original DataFrame.\n",
    "\n",
    "What you got back instead was a pandas DataFrame with a hierarchical index (also known as a MultiIndex).\n",
    "\n",
    "Hierarchical indexes are covered in depth in Manipulating DataFrames with pandas. In essence, they allow you to group columns or rows by another variable - in this case, by 'Month' as well as 'Day'.\n",
    "\n",
    "There's a very simple method you can use to get back the original DataFrame from the pivoted DataFrame: .reset_index(). We didn't show you how to use this method in the slide, but you're now going to practice using it in this exercise to get back the original DataFrame from airquality_pivot, which has been pre-loaded.\n",
    "\n",
    "### Instructions\n",
    "\n",
    "- Print the index of airquality_pivot by accessing its .index attribute. This has been done for you.\n",
    "- Reset the index of airquality_pivot using its .reset_index() method.\n",
    "- Print the new index of airquality_pivot_reset.\n",
    "- Print the head of airquality_pivot_reset."
   ]
  },
  {
   "cell_type": "code",
   "execution_count": 1,
   "metadata": {},
   "outputs": [
    {
     "name": "stdout",
     "output_type": "stream",
     "text": [
      "   Ozone  Solar.R  Wind  Temp  Month  Day\n",
      "0   41.0    190.0   7.4    67      5    1\n",
      "1   36.0    118.0   8.0    72      5    2\n",
      "2   12.0    149.0  12.6    74      5    3\n",
      "3   18.0    313.0  11.5    62      5    4\n",
      "4    NaN      NaN  14.3    56      5    5\n",
      "(153, 6)\n",
      "   Month  Day measurement  reading\n",
      "0      5    1       Ozone     41.0\n",
      "1      5    2       Ozone     36.0\n",
      "2      5    3       Ozone     12.0\n",
      "3      5    4       Ozone     18.0\n",
      "4      5    5       Ozone      NaN\n",
      "(612, 4)\n"
     ]
    }
   ],
   "source": [
    "import pandas as pd\n",
    "airquality = pd.read_csv('airquality.csv')\n",
    "print(airquality.head())\n",
    "print(airquality.shape)\n",
    "\n",
    "\n",
    "airquality_melt = pd.melt(airquality,\n",
    "                          id_vars=['Month', 'Day'],\n",
    "                          var_name='measurement',\n",
    "                          value_name='reading')\n",
    "print(airquality_melt.head())\n",
    "print(airquality_melt.shape)"
   ]
  },
  {
   "cell_type": "code",
   "execution_count": 2,
   "metadata": {},
   "outputs": [
    {
     "name": "stdout",
     "output_type": "stream",
     "text": [
      "measurement  Ozone  Solar.R  Temp  Wind\n",
      "Month Day                              \n",
      "5     1       41.0    190.0  67.0   7.4\n",
      "      2       36.0    118.0  72.0   8.0\n",
      "      3       12.0    149.0  74.0  12.6\n",
      "      4       18.0    313.0  62.0  11.5\n",
      "      5        NaN      NaN  56.0  14.3\n",
      "(153, 4)\n"
     ]
    }
   ],
   "source": [
    "airquality_pivot = airquality_melt.pivot_table(index=['Month', 'Day'],\n",
    "                                               columns='measurement',\n",
    "                                               values='reading')\n",
    "print(airquality_pivot.head())\n",
    "print(airquality_pivot.shape)"
   ]
  },
  {
   "cell_type": "code",
   "execution_count": 3,
   "metadata": {},
   "outputs": [
    {
     "name": "stdout",
     "output_type": "stream",
     "text": [
      "MultiIndex(levels=[[5, 6, 7, 8, 9], [1, 2, 3, 4, 5, 6, 7, 8, 9, 10, 11, 12, 13, 14, 15, 16, 17, 18, 19, 20, 21, 22, 23, 24, 25, 26, 27, 28, 29, 30, 31]],\n",
      "           codes=[[0, 0, 0, 0, 0, 0, 0, 0, 0, 0, 0, 0, 0, 0, 0, 0, 0, 0, 0, 0, 0, 0, 0, 0, 0, 0, 0, 0, 0, 0, 0, 1, 1, 1, 1, 1, 1, 1, 1, 1, 1, 1, 1, 1, 1, 1, 1, 1, 1, 1, 1, 1, 1, 1, 1, 1, 1, 1, 1, 1, 1, 2, 2, 2, 2, 2, 2, 2, 2, 2, 2, 2, 2, 2, 2, 2, 2, 2, 2, 2, 2, 2, 2, 2, 2, 2, 2, 2, 2, 2, 2, 2, 3, 3, 3, 3, 3, 3, 3, 3, 3, 3, 3, 3, 3, 3, 3, 3, 3, 3, 3, 3, 3, 3, 3, 3, 3, 3, 3, 3, 3, 3, 3, 4, 4, 4, 4, 4, 4, 4, 4, 4, 4, 4, 4, 4, 4, 4, 4, 4, 4, 4, 4, 4, 4, 4, 4, 4, 4, 4, 4, 4, 4], [0, 1, 2, 3, 4, 5, 6, 7, 8, 9, 10, 11, 12, 13, 14, 15, 16, 17, 18, 19, 20, 21, 22, 23, 24, 25, 26, 27, 28, 29, 30, 0, 1, 2, 3, 4, 5, 6, 7, 8, 9, 10, 11, 12, 13, 14, 15, 16, 17, 18, 19, 20, 21, 22, 23, 24, 25, 26, 27, 28, 29, 0, 1, 2, 3, 4, 5, 6, 7, 8, 9, 10, 11, 12, 13, 14, 15, 16, 17, 18, 19, 20, 21, 22, 23, 24, 25, 26, 27, 28, 29, 30, 0, 1, 2, 3, 4, 5, 6, 7, 8, 9, 10, 11, 12, 13, 14, 15, 16, 17, 18, 19, 20, 21, 22, 23, 24, 25, 26, 27, 28, 29, 30, 0, 1, 2, 3, 4, 5, 6, 7, 8, 9, 10, 11, 12, 13, 14, 15, 16, 17, 18, 19, 20, 21, 22, 23, 24, 25, 26, 27, 28, 29]],\n",
      "           names=['Month', 'Day'])\n"
     ]
    }
   ],
   "source": [
    "print(airquality_pivot.index)"
   ]
  },
  {
   "cell_type": "code",
   "execution_count": 4,
   "metadata": {},
   "outputs": [
    {
     "name": "stdout",
     "output_type": "stream",
     "text": [
      "RangeIndex(start=0, stop=153, step=1)\n"
     ]
    }
   ],
   "source": [
    "# Reset the index of airquality_pivot: airquality_pivot_reset\n",
    "airquality_pivot_reset = airquality_pivot.reset_index()\n",
    "\n",
    "# Print the new index of airquality_pivot_reset\n",
    "print(airquality_pivot_reset.index)"
   ]
  },
  {
   "cell_type": "code",
   "execution_count": 5,
   "metadata": {},
   "outputs": [
    {
     "name": "stdout",
     "output_type": "stream",
     "text": [
      "measurement  Month  Day  Ozone  Solar.R  Temp  Wind\n",
      "0                5    1   41.0    190.0  67.0   7.4\n",
      "1                5    2   36.0    118.0  72.0   8.0\n",
      "2                5    3   12.0    149.0  74.0  12.6\n",
      "3                5    4   18.0    313.0  62.0  11.5\n",
      "4                5    5    NaN      NaN  56.0  14.3\n",
      "(153, 6)\n"
     ]
    }
   ],
   "source": [
    "# Print the head of airquality_pivot_reset\n",
    "print(airquality_pivot_reset.head())\n",
    "print(airquality_pivot_reset.shape)"
   ]
  }
 ],
 "metadata": {
  "kernelspec": {
   "display_name": "Python 3",
   "language": "python",
   "name": "python3"
  },
  "language_info": {
   "codemirror_mode": {
    "name": "ipython",
    "version": 3
   },
   "file_extension": ".py",
   "mimetype": "text/x-python",
   "name": "python",
   "nbconvert_exporter": "python",
   "pygments_lexer": "ipython3",
   "version": "3.7.0"
  }
 },
 "nbformat": 4,
 "nbformat_minor": 2
}
